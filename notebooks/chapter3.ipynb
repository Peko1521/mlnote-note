{
 "cells": [
  {
   "cell_type": "markdown",
   "id": "bd4860cb-0019-4b02-9edb-560221e56a61",
   "metadata": {},
   "source": [
    "# 機械学習帳 確認問題(3.4)\n",
    "\n",
    "[機械学習帳のモデル選択と正則化の確認問題(3.4)](https://chokkan.github.io/mlnote/regression/03regularization.html#id4)を解きます。\n",
    "\n",
    "## 講義内容の復習\n",
    "\n",
    "![chapter3-1.PNG](./images/chapter3/chapter3-1.PNG)\n",
    "\n",
    "## 0. データの準備\n"
   ]
  },
  {
   "cell_type": "code",
   "execution_count": 1,
   "id": "49a50112-2daa-4501-8391-e9cd40564ec3",
   "metadata": {},
   "outputs": [],
   "source": [
    "import numpy as np\n",
    "\n",
    "\n",
    "X = np.array([ 0.  ,  0.16,  0.22,  0.34,  0.44,  0.5 ,  0.67,  0.73,  0.9 ,  1.  ])\n",
    "Y = np.array([-0.06,  0.94,  0.97,  0.85,  0.25,  0.09, -0.9 , -0.93, -0.53,  0.08])"
   ]
  },
  {
   "cell_type": "markdown",
   "id": "6ecef6ed-e92c-4e45-960d-2f70c5d47fb3",
   "metadata": {},
   "source": [
    "## 1. 9次関数によるリッジ回帰\n",
    "\n",
    "例として用いてきた以下の学習データ`X`, `Y`に対してリッジ回帰を行い、回帰曲線をプロットせよ。\n",
    "ただし、正則化のハイパー・パラメータは$\\alpha = 10^{-9}, 10^{-6}, 10^{-3}, 1$の4通りを試し、すべての回帰曲線と学習データの各点を一つのグラフ上にプロットせよ。"
   ]
  },
  {
   "cell_type": "code",
   "execution_count": null,
   "id": "7c48aefb-be2a-4f0a-a236-9c8ac879c8b3",
   "metadata": {},
   "outputs": [],
   "source": []
  },
  {
   "cell_type": "markdown",
   "id": "f9b4a516-122f-4e65-ab23-ef5ff282c434",
   "metadata": {},
   "source": [
    "## 2.パラメータのL2ノルム\n",
    "\n",
    "学習した4つのモデルのパラメータの$L_2$ノルムを計算し、表示せよ。"
   ]
  },
  {
   "cell_type": "code",
   "execution_count": null,
   "id": "f9150890-d6ff-401c-a5ee-8925e25fcb8a",
   "metadata": {},
   "outputs": [],
   "source": []
  },
  {
   "cell_type": "markdown",
   "id": "56c2ca7a-4347-4271-a118-be4617bbb72a",
   "metadata": {},
   "source": [
    "## 3. 検証データに基づく$\\alpha$の選択\n",
    "\n",
    "例として用いてきた以下の検証データ`X_valid`, `Y_valid`に対して、これまでに学習した4つのモデルの平均二乗残差（MSR）を計算し、正則化のハイパー・パラメータとして最も汎化性能が高いと思われるものを選択せよ。"
   ]
  },
  {
   "cell_type": "code",
   "execution_count": null,
   "id": "56f54828-31f1-4a07-9b89-9dffa1b1f830",
   "metadata": {},
   "outputs": [],
   "source": []
  }
 ],
 "metadata": {
  "kernelspec": {
   "display_name": "mlnote:Python",
   "language": "python",
   "name": "conda-env-mlnote-py"
  },
  "language_info": {
   "codemirror_mode": {
    "name": "ipython",
    "version": 3
   },
   "file_extension": ".py",
   "mimetype": "text/x-python",
   "name": "python",
   "nbconvert_exporter": "python",
   "pygments_lexer": "ipython3",
   "version": "3.10.4"
  }
 },
 "nbformat": 4,
 "nbformat_minor": 5
}
