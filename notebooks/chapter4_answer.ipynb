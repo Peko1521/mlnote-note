{
 "cells": [
  {
   "cell_type": "markdown",
   "id": "17b16d0f-f844-472c-9137-9de2547d9a05",
   "metadata": {},
   "source": [
    "# 機械学習帳 確認問題(4.9)\n",
    "\n",
    "[機械学習帳のモデル選択と正則化の確認問題(3.4)を解きます](https://chokkan.github.io/mlnote/regression/03regularization.html#id4)。\n",
    "\n",
    "## 講義内容の復習\n",
    "\n",
    "![chapter4-1.PNG](./images/chapter4/chapter4-1.PNG)\n",
    "\n",
    "![chapter4-2.PNG](./images/chapter4/chapter4-2.PNG)\n",
    "\n",
    "## 1. リッジ回帰モデルを学習する反復式の導出"
   ]
  },
  {
   "cell_type": "markdown",
   "id": "0319efc0-5c90-465f-b8d2-4438df993632",
   "metadata": {},
   "source": [
    "リッジ回帰の反復式を導出します。まず、反復式の定義は次の通りでした。\n",
    "\n",
    "$$\n",
    "\\pmb{w}^{(t+1)} = \\pmb{w}^{(t)} - \\eta \\delta^{(t)}\n",
    "$$\n",
    "\n",
    "リッジ回帰における$\\delta_{Ridge}^{(t)}$は、事例ごとの残差$\\hat{l}_{\\pmb{x}_i, y_i}(\\pmb{w}^{(t)})$の勾配$\\nabla\\hat{l}_{\\pmb{x}_i, y_i}(\\pmb{w}^{(t)})$になります。事例ごとの残差$\\hat{l}_{\\pmb{x}_i, y_i}(\\pmb{w}^{(t)})$は、リッジ回帰の定義より次の通り定義されます。各事例ごとの正則化項とするため、$\\alpha$を事例数で割っています。\n",
    "\n",
    "$$\n",
    "\\begin{aligned}\n",
    "\\hat{l}_{\\pmb{x}_i, y_i}(\\pmb{w}^{(t)})\n",
    "    &= \\|y_i - \\hat{y}^{(t)}_i\\|^2 + \\frac{\\alpha}{N} \\|\\pmb{w}^{(t)}\\|^2 \\\\\n",
    "    &= \\|y_i - \\pmb{x}_i^T\\pmb{w}^{(t)}\\|^2 + \\frac{\\alpha}{N} \\|\\pmb{w}^{(t)}\\|^2 \\\\\n",
    "\\end{aligned}\n",
    "$$\n",
    "\n",
    "残差$\\hat{l}_{\\pmb{x}_i, y_i}(\\pmb{w}^{(t)})$の勾配$\\nabla\\hat{l}_{\\pmb{x}_i, y_i}(\\pmb{w}^{(t)})$は次のように定義されます。\n",
    "\n",
    "$$\n",
    "\\begin{aligned}\n",
    "\\nabla\\hat{l}_{\\pmb{x}_i, y_i}(\\pmb{w}^{(t)})\n",
    "    &= \\frac{\\partial \\hat{l}_{\\pmb{x}_i, y_i}(\\pmb{w}^{(t)})}{\\partial \\pmb{w}^{(t)}} \\\\\n",
    "    &= 2 (y_i - \\pmb{x}_i^T\\pmb{w}^{(t)}) \\pmb{x}_i (-1) + 2 \\frac{\\alpha}{N} \\pmb{w}^{(t)} \\\\\n",
    "    &= 2 (\\pmb{x}_i^T\\pmb{w}^{(t)} - y_i) \\pmb{x}_i + 2 \\frac{\\alpha}{N} \\pmb{w}^{(t)} \\\\\n",
    "    &= 2 (\\hat{y}^{(t)}_i - y_i) \\pmb{x}_i + 2 \\frac{\\alpha}{N} \\pmb{w}^{(t)} \\\\\n",
    "\\end{aligned}\n",
    "$$\n",
    "\n",
    "$\\delta_{Ridge}^{(t)} = \\nabla\\hat{l}_{\\pmb{x}_i, y_i}(\\pmb{w}^{(t)})$であることから、リッジ回帰の反復式は次のように定義されます。\n",
    "\n",
    "$$\n",
    "\\begin{aligned}\n",
    "\\pmb{w}^{(t+1)} &= \\pmb{w}^{(t)} - \\eta \\delta_{Ridge}^{(t)} \\\\\n",
    "    &= \\pmb{w}^{(t)} - 2\\eta \\left((\\hat{y}^{(t)}_i - y_i) \\pmb{x}_i + \\frac{\\alpha}{N} \\pmb{w}^{(t)}\\right)\n",
    "\\end{aligned}\n",
    "$$"
   ]
  },
  {
   "cell_type": "markdown",
   "id": "19fa9044-aa47-480a-ae51-d75297687f79",
   "metadata": {},
   "source": [
    "## 2. $L_2$正則化を反復式から解釈する\n",
    "\n",
    "リッジ回帰の反復式から、$\\frac{-2 \\eta \\alpha}{N}\\pmb{w}^{(t)}$が$\\pmb{w}^{(t)}$の更新から常にマイナスされることがわかります。これにより、$\\pmb{w}^{(t)}$が大きくなりすぎるのを防いでいるといえます。"
   ]
  },
  {
   "cell_type": "markdown",
   "id": "be2495f2-6043-4f94-b1cd-eaf7c5b16d2b",
   "metadata": {},
   "source": [
    "## (3) リッジ回帰の実装\n",
    "\n",
    "確率的勾配降下法でリッジ回帰のパラメータを推定します。"
   ]
  },
  {
   "cell_type": "code",
   "execution_count": 1,
   "id": "574131df-1f60-44f9-a3d3-cf61028b13e2",
   "metadata": {},
   "outputs": [],
   "source": [
    "import numpy as np\n",
    "\n",
    "\n",
    "X = np.array([ 0.  ,  0.16,  0.22,  0.34,  0.44,  0.5 ,  0.67,  0.73,  0.9 ,  1.  ])\n",
    "Y = np.array([-0.06,  0.94,  0.97,  0.85,  0.25,  0.09, -0.9 , -0.93, -0.53,  0.08])"
   ]
  },
  {
   "cell_type": "markdown",
   "id": "058c3d27-1017-4f32-bcad-e23e2da60bdb",
   "metadata": {},
   "source": [
    "リッジ回帰のクラスを作成します。"
   ]
  },
  {
   "cell_type": "code",
   "execution_count": 2,
   "id": "1263b367-eee4-40f5-a986-550b67e9b07e",
   "metadata": {},
   "outputs": [],
   "source": [
    "from sklearn.preprocessing import PolynomialFeatures\n",
    "\n",
    "\n",
    "class RidgeRegression():\n",
    "    \n",
    "    def __init__(self, degree):\n",
    "        self.degree = degree\n",
    "        self.w = None\n",
    "    \n",
    "    def train(self, X, Y, eta=1.0, alpha=1e-6, epoch=40000, eps=1e-4):\n",
    "        N = len(X)\n",
    "        transformer = PolynomialFeatures(self.degree, include_bias=True)\n",
    "        F = transformer.fit_transform(X.reshape((-1, 1)))\n",
    "        self.w = np.zeros([F.shape[-1], 1])\n",
    "        for t in range(epoch):\n",
    "            _eta = eta / np.sqrt(1 + t)\n",
    "            i = np.random.choice(N)\n",
    "            x_i = F[i].reshape((-1, 1))\n",
    "            hat_y = x_i.T @ self.w\n",
    "            grad = 2 * ((hat_y - Y[i]) * x_i + (alpha * self.w / N))\n",
    "            if np.sum(np.abs(grad)) < eps:\n",
    "                break\n",
    "            self.w -= _eta * grad\n",
    "        return self\n",
    "        \n",
    "    def predict(self, X):\n",
    "        transformer = PolynomialFeatures(self.degree, include_bias=True)\n",
    "        F = transformer.fit_transform(X.reshape((-1, 1)))\n",
    "        return (F @ self.w).flatten()\n"
   ]
  },
  {
   "cell_type": "code",
   "execution_count": 3,
   "id": "bcc40030-cfec-4663-9b80-67b5d21e8aa1",
   "metadata": {},
   "outputs": [],
   "source": [
    "model = RidgeRegression(degree=9).train(X, Y)"
   ]
  },
  {
   "cell_type": "code",
   "execution_count": 4,
   "id": "ae74d0db-b961-4188-aeb1-94951803fd57",
   "metadata": {},
   "outputs": [
    {
     "data": {
      "text/plain": [
       "<AxesSubplot:xlabel='x', ylabel='y'>"
      ]
     },
     "execution_count": 4,
     "metadata": {},
     "output_type": "execute_result"
    },
    {
     "data": {
      "image/png": "[encoded data removed]",
      "text/plain": [
       "<Figure size 576x360 with 1 Axes>"
      ]
     },
     "metadata": {
      "needs_background": "light"
     },
     "output_type": "display_data"
    }
   ],
   "source": [
    "import pandas as pd\n",
    "import matplotlib.pyplot as plt\n",
    "\n",
    "\n",
    "df = pd.DataFrame({\n",
    "    \"x\": X,\n",
    "    \"y\": Y,\n",
    "    \"predict\": model.predict(X)\n",
    "})\n",
    "\n",
    "\n",
    "fig, ax = plt.subplots(figsize=(8, 5))\n",
    "df.plot.scatter(x=\"x\", y=\"y\", grid=True, ax=ax)\n",
    "df.plot.line(x=\"x\", y=\"predict\", grid=True, ax=ax)"
   ]
  },
  {
   "cell_type": "code",
   "execution_count": null,
   "id": "04dd1a01-8487-44c4-92f2-215fdca78360",
   "metadata": {},
   "outputs": [],
   "source": []
  }
 ],
 "metadata": {
  "kernelspec": {
   "display_name": "mlnote:Python",
   "language": "python",
   "name": "conda-env-mlnote-py"
  },
  "language_info": {
   "codemirror_mode": {
    "name": "ipython",
    "version": 3
   },
   "file_extension": ".py",
   "mimetype": "text/x-python",
   "name": "python",
   "nbconvert_exporter": "python",
   "pygments_lexer": "ipython3",
   "version": "3.10.4"
  }
 },
 "nbformat": 4,
 "nbformat_minor": 5
}
