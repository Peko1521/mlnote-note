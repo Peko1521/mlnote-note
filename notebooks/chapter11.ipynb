{
 "cells": [
  {
   "cell_type": "markdown",
   "id": "8c4fc2d9-53db-49c8-999e-c05fe7eb37f7",
   "metadata": {},
   "source": [
    "# 機械学習帳 確認問題(11.6)\n",
    "\n",
    "[機械学習帳の階層的クラスタリングの確認問題(11.6)](https://chokkan.github.io/mlnote/unsupervised/02hac.html#id19)を解きます。\n",
    "\n",
    "## 講義内容の復習\n",
    "\n",
    "![chapter11-1.svg](./images/chapter11/chapter11-1.svg)\n",
    "\n",
    "![chapter11-2.svg](./images/chapter11/chapter11-2.svg)\n",
    "\n",
    "## 0. データセットの読み込み\n",
    "\n",
    "[教育用標準データセット（SSDSE）](https://www.nstac.go.jp/use/literacy/ssdse/)に収録されている都道府県庁所在市別・家計消費データ（SSDSE-C）を読み込む。\n"
   ]
  },
  {
   "cell_type": "code",
   "execution_count": 1,
   "id": "ea63cdfd-a64c-4b83-ad6a-6b7e4ad09d17",
   "metadata": {},
   "outputs": [],
   "source": [
    "URL = \"https://www.nstac.go.jp/sys/files//SSDSE-C-2022.csv\"\n",
    "import urllib\n",
    "from pathlib import Path\n",
    "\n",
    "\n",
    "csv = urllib.request.urlopen(URL).read().decode(\"shift-jis\")\n",
    "csv_path = Path(\"./data/ssdse-c-2022.csv\")\n",
    "with csv_path.open(mode=\"w\", encoding=\"utf-8\") as f:\n",
    "    f.write(csv)"
   ]
  },
  {
   "cell_type": "markdown",
   "id": "24e8604f-81c1-48bc-93c8-9bc7b7bfc7c6",
   "metadata": {},
   "source": [
    "## 1. 階層クラスタリングの実施\n",
    "\n",
    "教育用標準データセット（SSDSE）に収録されている都道府県庁所在市別・家計消費データ（SSDSE-C）に対してクラスタ分析を適用し、消費行動が類似している都道府県のクラスタを作りたい。最短距離法、最長距離法、Ward法を用いて都道府県をクラスタリングし、デンドログラムをそれぞれ描画せよ。ただし、クラスタの各要素がどの都道府県であるか分かるようにせよ。"
   ]
  },
  {
   "cell_type": "code",
   "execution_count": null,
   "id": "8ad46643-e720-426b-9100-dac14487efb6",
   "metadata": {},
   "outputs": [],
   "source": []
  }
 ],
 "metadata": {
  "kernelspec": {
   "display_name": "mlnote",
   "language": "python",
   "name": "mlnote"
  },
  "language_info": {
   "codemirror_mode": {
    "name": "ipython",
    "version": 3
   },
   "file_extension": ".py",
   "mimetype": "text/x-python",
   "name": "python",
   "nbconvert_exporter": "python",
   "pygments_lexer": "ipython3",
   "version": "3.8.13"
  }
 },
 "nbformat": 4,
 "nbformat_minor": 5
}
