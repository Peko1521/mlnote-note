{
 "cells": [
  {
   "cell_type": "markdown",
   "id": "8c4fc2d9-53db-49c8-999e-c05fe7eb37f7",
   "metadata": {},
   "source": [
    "# 機械学習帳 確認問題(8.4, 8.5)\n",
    "\n",
    "[機械学習帳のニューラルネットワーク(2)の確認問題(8.4, 8.5)](https://chokkan.github.io/mlnote/classification/04nntrain.html#id13)を解きます。\n",
    "\n",
    "## 講義内容の復習\n",
    "\n",
    "![chapter8-1.svg](./images/chapter8/chapter8-1.svg)\n",
    "\n",
    "![chapter8-2.svg](./images/chapter8/chapter8-2.svg)\n",
    "\n",
    "## 8.4 自動微分\n",
    "\n",
    "2次元の入力$\\pmb{x} \\in \\mathbb{R}^{2}$を受け取り、2次元の中間層$\\pmb{h} \\in \\mathbb{R}^{2}$を介して、$\\hat{y} \\in \\mathbb{R}$を出力する2層のニューラルネットワークを次式で定義する。\n",
    "\\begin{align*}\n",
    "\\hat{y} = \\sigma(\\pmb{h}^{\\top}\\pmb{q}+c), \\; \\pmb{h}=\\mathrm{ReLU}(\\pmb{W}\\pmb{x} + \\pmb{b})\n",
    "\\end{align*}\n",
    "ただし、$\\sigma(.)$はシグモイド関数であり、$\\mathrm{ReLU}(a) = \\max(a, 0)$である。また、$\\pmb{W} \\in \\mathbb{R}^{2 \\times 2}, \\pmb{q} \\in \\mathbb{R}^{2}, b \\in \\mathbb{R}^2, c \\in \\mathbb{R}$はモデルのパラメータであり、以下に示す値に設定されているとする。\n",
    "\\begin{align*}\n",
    "\\pmb{W} = \\begin{pmatrix}1 & 1 \\\\ -1 & -1\\end{pmatrix}, \\; \\pmb{q} = \\begin{pmatrix}1 \\\\ 1\\end{pmatrix}, \\; \\pmb{b} = \\begin{pmatrix}-0.5 \\\\ 1.5\\end{pmatrix}, \\; c = -1.5\n",
    "\\end{align*}\n",
    "\n",
    "### 8.4.1 出力の計算\n",
    "\n",
    "このモデルに入力$\\pmb{x}=\\begin{pmatrix}0 \\\\ 0\\end{pmatrix}$が与えられたとき、中間層の値$\\pmb{h}$と出力値$\\hat{y}$を求めよ。"
   ]
  },
  {
   "cell_type": "code",
   "execution_count": null,
   "id": "ea63cdfd-a64c-4b83-ad6a-6b7e4ad09d17",
   "metadata": {},
   "outputs": [],
   "source": []
  },
  {
   "cell_type": "markdown",
   "id": "24e8604f-81c1-48bc-93c8-9bc7b7bfc7c6",
   "metadata": {},
   "source": [
    "### 8.4.2 勾配の計算\n",
    "\n",
    "ある学習事例$(\\pmb{x}, y) = \\left(\\begin{pmatrix}1 \\\\ 1 \\end{pmatrix}, 0\\right)$に対して、このニューラルネットワークをクロスエントロピー損失関数の値、および損失関数の$\\pmb{W}$, $\\pmb{q}$, $\\pmb{b}$, $c$に関する勾配の値を求めよ。"
   ]
  },
  {
   "cell_type": "markdown",
   "id": "a4b0d6eb-6633-4b66-8f5f-37015f996852",
   "metadata": {},
   "source": [
    "## 8.5 NNの学習\n",
    "\n",
    "### 8.5.1 モデルの学習\n",
    "\n",
    "MNISTの訓練データを用いて単層のニューラルネットワークを学習せよ。このとき、各エポック毎に以下の評価値を計算し、グラフとして表示せよ。\n",
    "\n",
    "+ 訓練データ上の損失関数の値\n",
    "+ 訓練データ上の正解率\n",
    "+ 評価データ上の損失関数の値\n",
    "+ 評価データ上の正解率\n",
    "\n",
    "#### データの準備\n",
    "\n",
    "MNISTのデータを準備します(6章で使用したコードを再掲)"
   ]
  },
  {
   "cell_type": "code",
   "execution_count": 1,
   "id": "0f91091c-73d0-4ef0-a5f0-15573249909e",
   "metadata": {
    "tags": []
   },
   "outputs": [
    {
     "name": "stdout",
     "output_type": "stream",
     "text": [
      "Training data (X): (60000, 28, 28) float32\n",
      "Training data (Y): (60000,) uint8\n",
      "Test data (X): (10000, 28, 28) float32\n",
      "Test data (Y): (10000,) uint8\n"
     ]
    }
   ],
   "source": [
    "import gzip\n",
    "import sys\n",
    "import struct\n",
    "import urllib.request\n",
    "from pathlib import Path\n",
    "import numpy as np\n",
    "\n",
    "def read_image(fi):\n",
    "    magic, n, rows, columns = struct.unpack(\">IIII\", fi.read(16))\n",
    "    assert magic == 0x00000803\n",
    "    assert rows == 28\n",
    "    assert columns == 28\n",
    "    rawbuffer = fi.read()\n",
    "    assert len(rawbuffer) == n * rows * columns\n",
    "    rawdata = np.frombuffer(rawbuffer, dtype='>u1', count=n*rows*columns)\n",
    "    return rawdata.reshape(n, rows, columns).astype(np.float32) / 255.0\n",
    "\n",
    "def read_label(fi):\n",
    "    magic, n = struct.unpack(\">II\", fi.read(8))\n",
    "    assert magic == 0x00000801\n",
    "    rawbuffer = fi.read()\n",
    "    assert len(rawbuffer) == n\n",
    "    return np.frombuffer(rawbuffer, dtype='>u1', count=n)\n",
    "\n",
    "def openurl_gzip(url):\n",
    "    request = urllib.request.Request(\n",
    "        url,\n",
    "        headers={\n",
    "            \"Accept-Encoding\": \"gzip\",\n",
    "            \"User-Agent\": \"Mozilla/5.0 (X11; U; Linux i686) Gecko/20071127 Firefox/2.0.0.11\", \n",
    "        })\n",
    "    response = urllib.request.urlopen(request)\n",
    "    return gzip.GzipFile(fileobj=response, mode='rb')\n",
    "\n",
    "def save_mnist():\n",
    "    if Path(\"data/mnist.npz\").exists():\n",
    "        return\n",
    "    np.savez_compressed(\n",
    "        \"data/mnist\",\n",
    "        train_x=read_image(openurl_gzip(\"http://yann.lecun.com/exdb/mnist/train-images-idx3-ubyte.gz\")),\n",
    "        train_y=read_label(openurl_gzip(\"http://yann.lecun.com/exdb/mnist/train-labels-idx1-ubyte.gz\")),\n",
    "        test_x=read_image(openurl_gzip(\"http://yann.lecun.com/exdb/mnist/t10k-images-idx3-ubyte.gz\")),\n",
    "        test_y=read_label(openurl_gzip(\"http://yann.lecun.com/exdb/mnist/t10k-labels-idx1-ubyte.gz\"))\n",
    "    )\n",
    "\n",
    "save_mnist()\n",
    "data = np.load(\"data/mnist.npz\")\n",
    "print(\"Training data (X):\", data[\"train_x\"].shape, data[\"train_x\"].dtype)\n",
    "print(\"Training data (Y):\", data[\"train_y\"].shape, data[\"train_y\"].dtype)\n",
    "print(\"Test data (X):\", data[\"test_x\"].shape, data[\"test_x\"].dtype)\n",
    "print(\"Test data (Y):\", data[\"test_y\"].shape, data[\"test_y\"].dtype)"
   ]
  },
  {
   "cell_type": "markdown",
   "id": "4aa679bf-4c1b-451e-aaf5-74a4d020d5e0",
   "metadata": {},
   "source": [
    "#### モデルの学習"
   ]
  },
  {
   "cell_type": "code",
   "execution_count": null,
   "id": "75f10e04-3cd1-4922-b9de-a8f3c5f038e9",
   "metadata": {},
   "outputs": [],
   "source": []
  },
  {
   "cell_type": "markdown",
   "id": "65e24af9-0830-4de5-9448-d2f0d8e28032",
   "metadata": {},
   "source": [
    "### 8.5.2 適合率、再現率、F1スコア\n",
    "\n",
    "(1)で学習したモデルに対して、評価データ上で以下の評価値を計算せよ。\n",
    "\n",
    "+ 各カテゴリ（数字）に対する適合率、再現率、F1スコア\n",
    "+ 各カテゴリの適合率、再現率、F1スコアのマクロ平均を取ったもの"
   ]
  },
  {
   "cell_type": "code",
   "execution_count": null,
   "id": "20b69e37-f69f-43a9-aeb6-e471cfaf2926",
   "metadata": {},
   "outputs": [],
   "source": []
  },
  {
   "cell_type": "markdown",
   "id": "35cebf30-39d7-4457-a650-fb41462681d2",
   "metadata": {},
   "source": [
    "### 8.5.3 混同行列\n",
    "\n",
    "(1)で学習したモデルに対して、評価データ上で混同行列を計算せよ。"
   ]
  },
  {
   "cell_type": "code",
   "execution_count": null,
   "id": "a8fb3a9c-b42b-4da1-ae7d-28a4c98046a8",
   "metadata": {},
   "outputs": [],
   "source": []
  },
  {
   "cell_type": "markdown",
   "id": "e4133b92-a8ef-4a4d-8daf-3010d687cdcf",
   "metadata": {},
   "source": [
    "### 8.5.4 紛らわしい事例\n",
    "\n",
    "(1)で学習したモデルにとって認識が簡単な評価事例トップ3と、難しい評価事例トップ3を求めたい。ある事例$x_i$に対して、正解のカテゴリを$y_i$、モデルが予測したカテゴリを$\\hat{y}_i$とする。モデルが認識に成功した（つまり$\\hat{y}_i = y_i$となる）事例に対して、認識の簡単さを条件付き確率$p(\\hat{y} | x)$で定義する。一方で、モデルが認識に失敗した（つまり$\\hat{y}_i \\neq y_i$となる）事例に対しても、認識の難しさを条件付き確率$p(\\hat{y} | x)$で定義する。\n",
    "\n",
    "このようにして見つけた6件の評価事例のそれぞれに対して、$y_i$, $p(y_i | x_i)$, $\\hat{y}_i$, $p(\\hat{y}_i | x_i)$とその事例の画像を表示せよ。"
   ]
  },
  {
   "cell_type": "code",
   "execution_count": null,
   "id": "1c04bacf-e71d-439d-bc3d-d86ae684aec0",
   "metadata": {},
   "outputs": [],
   "source": []
  },
  {
   "cell_type": "markdown",
   "id": "5db30cda-2811-4f7b-bb46-28f1f7698355",
   "metadata": {},
   "source": [
    "### 8.5.5 多層ニューラルネットワーク\n",
    "\n",
    "多層ニューラルネットワークを適当に構成し、(1)の実験を再度実行せよ。どのようなネットワーク構成にするかは任意である。"
   ]
  },
  {
   "cell_type": "code",
   "execution_count": null,
   "id": "5c8dd61e-4dd8-484e-ab77-cc0dc806ba5f",
   "metadata": {},
   "outputs": [],
   "source": []
  }
 ],
 "metadata": {
  "kernelspec": {
   "display_name": "mlnote:Python",
   "language": "python",
   "name": "conda-env-mlnote-py"
  },
  "language_info": {
   "codemirror_mode": {
    "name": "ipython",
    "version": 3
   },
   "file_extension": ".py",
   "mimetype": "text/x-python",
   "name": "python",
   "nbconvert_exporter": "python",
   "pygments_lexer": "ipython3",
   "version": "3.10.4"
  }
 },
 "nbformat": 4,
 "nbformat_minor": 5
}
