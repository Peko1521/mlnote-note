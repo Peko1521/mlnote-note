{
 "cells": [
  {
   "cell_type": "markdown",
   "id": "8c4fc2d9-53db-49c8-999e-c05fe7eb37f7",
   "metadata": {},
   "source": [
    "# 機械学習帳 確認問題(5.10)\n",
    "\n",
    "[機械学習帳の線形二値分類の確認問題(5.10)](https://chokkan.github.io/mlnote/classification/01binary.html#id19)を解きます。\n",
    "\n",
    "## 講義内容の復習\n",
    "\n",
    "![chapter5-1.svg](./images/chapter5/chapter5-1.svg)\n",
    "\n",
    "![chapter5-2.svg](./images/chapter5/chapter5-2.svg)\n",
    "\n",
    "![chapter5-3.svg](./images/chapter5/chapter5-3.svg)\n",
    "\n",
    "## 1. 確率的勾配降下法によるロジスティック回帰モデルの学習\n",
    "\n",
    "確率的勾配降下法でロジスティック回帰モデルを学習するアルゴリズムを自前で実装せよ。学習データや評価データは自由に選んでよい（難しければ、前節で用いた[SMS Spam Collection Data Set](https://archive.ics.uci.edu/ml/datasets/sms+spam+collection)を用いよ）。"
   ]
  },
  {
   "cell_type": "code",
   "execution_count": null,
   "id": "ea63cdfd-a64c-4b83-ad6a-6b7e4ad09d17",
   "metadata": {},
   "outputs": [],
   "source": []
  },
  {
   "cell_type": "markdown",
   "id": "15d7a4cb-25a0-410f-a2d4-10bfd90f79f5",
   "metadata": {},
   "source": [
    "## 2. 評価データ上での正解率\n",
    "\n",
    "評価データ上で学習したモデルの正解率を測定せよ。"
   ]
  },
  {
   "cell_type": "code",
   "execution_count": null,
   "id": "ae306605-4ec9-4ed4-8e49-6fb53ea6f802",
   "metadata": {},
   "outputs": [],
   "source": []
  },
  {
   "cell_type": "markdown",
   "id": "21df90d2-7955-4675-bcc3-15d7bd1624da",
   "metadata": {},
   "source": [
    "## 3. 学習で求めたパラメータ\n",
    "\n",
    "学習で求めたモデルのパラメータのうち、重みの絶対値が大きいものトップ20を、重みが正のものと負のものに分けて表示せよ。"
   ]
  },
  {
   "cell_type": "code",
   "execution_count": null,
   "id": "e419d4eb-b296-4024-a433-b1b37f5e6975",
   "metadata": {},
   "outputs": [],
   "source": []
  }
 ],
 "metadata": {
  "kernelspec": {
   "display_name": "mlnote:Python",
   "language": "python",
   "name": "conda-env-mlnote-py"
  },
  "language_info": {
   "codemirror_mode": {
    "name": "ipython",
    "version": 3
   },
   "file_extension": ".py",
   "mimetype": "text/x-python",
   "name": "python",
   "nbconvert_exporter": "python",
   "pygments_lexer": "ipython3",
   "version": "3.10.4"
  }
 },
 "nbformat": 4,
 "nbformat_minor": 5
}
