{
 "cells": [
  {
   "cell_type": "markdown",
   "id": "8c4fc2d9-53db-49c8-999e-c05fe7eb37f7",
   "metadata": {},
   "source": [
    "# 機械学習帳 確認問題(12.7)\n",
    "\n",
    "[機械学習帳の主成分分析の確認問題(12.7)](https://chokkan.github.io/mlnote/unsupervised/03pca.html#id8)を解きます。\n",
    "\n",
    "## 講義内容の復習\n",
    "\n",
    "![chapter12-1.svg](./images/chapter12/chapter12-1.svg)\n",
    "\n",
    "![chapter12-2.svg](./images/chapter12/chapter12-2.svg)\n",
    "\n",
    "## 1. $\\pmb{S}$の計算\n",
    "\n",
    "行列$\\pmb{S} = \\pmb{X}^\\top \\pmb{X}$に対して固有値問題を解くことで、主成分分析が得られることを確認したい。\n",
    "\n",
    "$\\pmb{X}$に対して、行列$\\pmb{S} = \\pmb{X}^\\top \\pmb{X}$を求めよ。\n",
    "\n",
    "\\begin{align*}\n",
    "\\pmb{X} = \\begin{pmatrix}-7 & -2 \\\\ -3 & -3 \\\\ 4 & 1 \\\\ 6 & 4\\end{pmatrix}\n",
    "\\end{align*}"
   ]
  },
  {
   "cell_type": "code",
   "execution_count": 1,
   "id": "ea63cdfd-a64c-4b83-ad6a-6b7e4ad09d17",
   "metadata": {},
   "outputs": [],
   "source": [
    "import numpy as np\n",
    "\n",
    "\n",
    "X = np.array([[-7, -2,],\n",
    "              [-3, -3,],\n",
    "              [4, 1],\n",
    "              [6, 4]])"
   ]
  },
  {
   "cell_type": "code",
   "execution_count": 2,
   "id": "bf1aaa7b-6834-4f28-ae15-8a4ca4d659ca",
   "metadata": {},
   "outputs": [
    {
     "data": {
      "text/plain": [
       "array([[110,  51],\n",
       "       [ 51,  30]])"
      ]
     },
     "execution_count": 2,
     "metadata": {},
     "output_type": "execute_result"
    }
   ],
   "source": [
    "S = X.T @ X\n",
    "S"
   ]
  },
  {
   "cell_type": "markdown",
   "id": "24e8604f-81c1-48bc-93c8-9bc7b7bfc7c6",
   "metadata": {},
   "source": [
    "## 2. 固有値問題の解\n",
    "\n",
    "[numpy.linalg.eig](https://numpy.org/doc/stable/reference/generated/numpy.linalg.eig.html)等で$\\pmb{S}$の固有値問題を解き、固有値と固有ベクトルを求めよ。"
   ]
  },
  {
   "cell_type": "code",
   "execution_count": 3,
   "id": "8ad46643-e720-426b-9100-dac14487efb6",
   "metadata": {},
   "outputs": [],
   "source": [
    "eigvals, eigenvectors = np.linalg.eig(S)"
   ]
  },
  {
   "cell_type": "code",
   "execution_count": 4,
   "id": "ff2b23a2-e6f0-4d78-bbb4-4e965d7f3916",
   "metadata": {},
   "outputs": [
    {
     "data": {
      "text/plain": [
       "array([134.81512169,   5.18487831])"
      ]
     },
     "execution_count": 4,
     "metadata": {},
     "output_type": "execute_result"
    }
   ],
   "source": [
    "eigvals"
   ]
  },
  {
   "cell_type": "code",
   "execution_count": 5,
   "id": "5976a8a0-b71b-4be9-bd1b-70baab3c7094",
   "metadata": {},
   "outputs": [
    {
     "data": {
      "text/plain": [
       "array([[ 0.89920519, -0.43752718],\n",
       "       [ 0.43752718,  0.89920519]])"
      ]
     },
     "execution_count": 5,
     "metadata": {},
     "output_type": "execute_result"
    }
   ],
   "source": [
    "eigenvectors"
   ]
  },
  {
   "cell_type": "markdown",
   "id": "22954acf-8f81-482b-b208-9559f0ba10cd",
   "metadata": {},
   "source": [
    "scikit-learnの主成分分析と実質結果が等しくなることを確認する。"
   ]
  },
  {
   "cell_type": "code",
   "execution_count": 6,
   "id": "2dd2e96c-cfe6-4125-b6a6-6c09274fd8e3",
   "metadata": {},
   "outputs": [
    {
     "data": {
      "text/plain": [
       "PCA(n_components=2)"
      ]
     },
     "execution_count": 6,
     "metadata": {},
     "output_type": "execute_result"
    }
   ],
   "source": [
    "from sklearn.decomposition import PCA\n",
    "\n",
    "\n",
    "pca = PCA(n_components=2)\n",
    "pca.fit(X)"
   ]
  },
  {
   "cell_type": "code",
   "execution_count": 7,
   "id": "902f161a-85c6-43f1-99f1-74b038c6a7d3",
   "metadata": {},
   "outputs": [
    {
     "data": {
      "text/plain": [
       "array([[-0.89920519, -0.43752718],\n",
       "       [ 0.43752718, -0.89920519]])"
      ]
     },
     "execution_count": 7,
     "metadata": {},
     "output_type": "execute_result"
    }
   ],
   "source": [
    "pca.components_"
   ]
  },
  {
   "cell_type": "code",
   "execution_count": 8,
   "id": "e706bcd2-5fcb-46d5-b609-899167b3b5e3",
   "metadata": {},
   "outputs": [
    {
     "data": {
      "text/plain": [
       "array([134.81512169,   5.18487831])"
      ]
     },
     "execution_count": 8,
     "metadata": {},
     "output_type": "execute_result"
    }
   ],
   "source": [
    "pca.singular_values_ ** 2"
   ]
  },
  {
   "cell_type": "markdown",
   "id": "4c45c876-4108-4e7a-8192-0921fed43b51",
   "metadata": {},
   "source": [
    "## 3. 第１主成分と第２主成分\n",
    "\n",
    "第１主成分と第１主成分軸における分散、第２主成分と第２主成分軸における分散を求めよ。\n",
    "\n",
    "(12.29)より、固有値が目的関数(分散)の値と等しくなることからそれぞれの分散は次の通りとなる。"
   ]
  },
  {
   "cell_type": "code",
   "execution_count": 9,
   "id": "aa1e7b0c-9c4a-4c7d-8847-f91e7a7361ab",
   "metadata": {},
   "outputs": [
    {
     "data": {
      "text/plain": [
       "array([134.81512169,   5.18487831])"
      ]
     },
     "execution_count": 9,
     "metadata": {},
     "output_type": "execute_result"
    }
   ],
   "source": [
    "eigvals"
   ]
  },
  {
   "cell_type": "markdown",
   "id": "39f54a81-209f-419b-bdea-fd3cd9e8e554",
   "metadata": {},
   "source": [
    "## 第１主成分得点と第２主成分得点\n",
    "\n",
    "第１主成分得点と第２主成分得点を求めよ。\n",
    "\n",
    "第一主成分得点は次の通り。"
   ]
  },
  {
   "cell_type": "code",
   "execution_count": 10,
   "id": "51a95e5f-add7-419d-a2fb-5dba81276fd1",
   "metadata": {},
   "outputs": [
    {
     "data": {
      "text/plain": [
       "array([-7.16949066, -4.0101971 ,  4.03434793,  7.14533984])"
      ]
     },
     "execution_count": 10,
     "metadata": {},
     "output_type": "execute_result"
    }
   ],
   "source": [
    "X @ eigenvectors[:,0]"
   ]
  },
  {
   "cell_type": "code",
   "execution_count": 11,
   "id": "9680484d-9bd8-478f-a240-a49fe667eca0",
   "metadata": {},
   "outputs": [
    {
     "data": {
      "text/plain": [
       "array([ 1.26427988, -1.38503402, -0.85090353,  0.97165767])"
      ]
     },
     "execution_count": 11,
     "metadata": {},
     "output_type": "execute_result"
    }
   ],
   "source": [
    "X @ eigenvectors[:,1]"
   ]
  },
  {
   "cell_type": "markdown",
   "id": "f713af3d-cb6e-4b77-af59-c7d2a75bdcbd",
   "metadata": {},
   "source": [
    "scikit-learnの結果と実質一致することを確認する。"
   ]
  },
  {
   "cell_type": "code",
   "execution_count": 12,
   "id": "0a567ba3-089e-4642-8eb5-bc157aaca83a",
   "metadata": {},
   "outputs": [
    {
     "data": {
      "text/plain": [
       "array([[ 7.16949066, -1.26427988],\n",
       "       [ 4.0101971 ,  1.38503402],\n",
       "       [-4.03434793,  0.85090353],\n",
       "       [-7.14533984, -0.97165767]])"
      ]
     },
     "execution_count": 12,
     "metadata": {},
     "output_type": "execute_result"
    }
   ],
   "source": [
    "pca.transform(X)"
   ]
  },
  {
   "cell_type": "code",
   "execution_count": null,
   "id": "a0ea9cba-80cc-4db7-8c41-0eefaf373d58",
   "metadata": {},
   "outputs": [],
   "source": []
  }
 ],
 "metadata": {
  "kernelspec": {
   "display_name": "mlnote:Python",
   "language": "python",
   "name": "conda-env-mlnote-py"
  },
  "language_info": {
   "codemirror_mode": {
    "name": "ipython",
    "version": 3
   },
   "file_extension": ".py",
   "mimetype": "text/x-python",
   "name": "python",
   "nbconvert_exporter": "python",
   "pygments_lexer": "ipython3",
   "version": "3.10.4"
  }
 },
 "nbformat": 4,
 "nbformat_minor": 5
}
