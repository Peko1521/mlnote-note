{
 "cells": [
  {
   "cell_type": "markdown",
   "id": "8c06b5ca-07c8-4924-8ca2-644d1b437b21",
   "metadata": {},
   "source": [
    "# 機械学習帳 確認問題(2.10)\n",
    "\n",
    "[機械学習帳の単回帰の確認問題(2.10)](https://chokkan.github.io/mlnote/regression/02mra.html#id17)を解きます。\n",
    "計算結果を確認するため、2.9で紹介されているNumpyの`polifit`とscikit-learnの`LinearRegression`を使用します。\n",
    "\n",
    "## 講義内容の復習\n",
    "\n",
    "![chapter2-1.svg](./images/chapter2/chapter2-1.svg)\n",
    "\n",
    "## 0. データの準備\n",
    "\n",
    "データ$\\mathcal{D}_s$に対して多項式のフィッティングを行いたい。以下の処理を行うプログラムを作成せよ。"
   ]
  },
  {
   "cell_type": "code",
   "execution_count": 1,
   "id": "3718a8be-f194-4ed2-b666-769666abd327",
   "metadata": {},
   "outputs": [],
   "source": [
    "import numpy as np\n",
    "\n",
    "\n",
    "D = np.array([[1, 3], [3, 6], [6, 5], [8, 7]])\n",
    "X = D[:, 0]\n",
    "Y = D[:, 1]"
   ]
  },
  {
   "cell_type": "markdown",
   "id": "56f9bd74-c096-413b-94ec-4b9fd7af200a",
   "metadata": {},
   "source": [
    "## 1. 行列による1次関数のパラメータ推定\n",
    "\n",
    "$y = w_0 + w_1 x$とおき、学習データ$\\mathcal{D}_s$上の平均二乗残差を最小にする$\\pmb{w} = \\begin{pmatrix}\n",
    "w_0 \\\\\n",
    "w_1\n",
    "\\end{pmatrix}$を行列演算により求めよ。"
   ]
  },
  {
   "cell_type": "code",
   "execution_count": null,
   "id": "cc96757a-0993-43e7-b359-a54058e84f09",
   "metadata": {},
   "outputs": [],
   "source": []
  },
  {
   "cell_type": "markdown",
   "id": "3aab40e8-490d-4d09-b5bd-a70f6e34bf8a",
   "metadata": {},
   "source": [
    "## 2.2次関数による重回帰\n",
    "\n",
    "$y = w_0 + w_1 x + w_2 x^2$とおき、重回帰により平均二乗残差を最小にする$\\pmb{w} = \\begin{pmatrix}\n",
    "w_0 \\\\\n",
    "w_1 \\\\\n",
    "w_2\n",
    "\\end{pmatrix}$を求めよ。"
   ]
  },
  {
   "cell_type": "code",
   "execution_count": null,
   "id": "0a72acdf-fc7b-4da2-838b-2b6ab00b4525",
   "metadata": {},
   "outputs": [],
   "source": []
  },
  {
   "cell_type": "markdown",
   "id": "9d434bec-7263-4c59-9fef-00a230441b3d",
   "metadata": {},
   "source": [
    "## 3. 回帰曲線の描画\n",
    "\n",
    "回帰で求めた2次関数をデータ点とともにグラフに描け。"
   ]
  },
  {
   "cell_type": "code",
   "execution_count": null,
   "id": "4fae21e9-d50b-4878-9733-9509a28d6baa",
   "metadata": {},
   "outputs": [],
   "source": []
  },
  {
   "cell_type": "markdown",
   "id": "8e21b19b-45d0-41b3-ae61-d907da1e3db2",
   "metadata": {},
   "source": [
    "## 4.決定係数\n",
    "\n",
    "回帰で得られた2次関数の決定係数（$R^2$）を求めよ。"
   ]
  },
  {
   "cell_type": "code",
   "execution_count": null,
   "id": "0d7d218c-985e-4738-b124-452f4a299401",
   "metadata": {},
   "outputs": [],
   "source": []
  },
  {
   "cell_type": "markdown",
   "id": "53530e0f-9751-4d1b-b6f9-b4d7037afdb4",
   "metadata": {},
   "source": [
    "## 5. 3次関数による重回帰\n",
    "\n",
    "$y = w_0 + w_1 x + w_2 x^2 + w_3 x^3$とおき、重回帰により平均二乗残差を最小にする$\\pmb{w} = \\begin{pmatrix}\n",
    "w_0 \\\\\n",
    "w_1 \\\\\n",
    "w_2 \\\\\n",
    "w_3\n",
    "\\end{pmatrix}$を求めよ。"
   ]
  },
  {
   "cell_type": "code",
   "execution_count": null,
   "id": "eabadd3e-29b8-4708-ab24-c7ef5f843287",
   "metadata": {},
   "outputs": [],
   "source": []
  },
  {
   "cell_type": "markdown",
   "id": "756e7ca3-cfaa-4073-808e-a6a6d2ddecd0",
   "metadata": {},
   "source": [
    "## 6.回帰曲線の描画\n",
    "\n",
    "回帰で求めた3次関数をデータ点とともにグラフに描け"
   ]
  },
  {
   "cell_type": "code",
   "execution_count": null,
   "id": "59f5eedb-e4b3-45b9-80e8-4c50bdb0670e",
   "metadata": {},
   "outputs": [],
   "source": []
  },
  {
   "cell_type": "markdown",
   "id": "f2025f52-f3d3-46f0-bdf9-580893e297c0",
   "metadata": {},
   "source": [
    "## 7. 決定係数\n",
    "\n",
    "回帰で求めた3次関数の決定係数（$R^2$）を求めよ"
   ]
  },
  {
   "cell_type": "code",
   "execution_count": null,
   "id": "ad4d8647-a3e8-43e0-9678-3908498821a3",
   "metadata": {},
   "outputs": [],
   "source": []
  }
 ],
 "metadata": {
  "kernelspec": {
   "display_name": "mlnote:Python",
   "language": "python",
   "name": "conda-env-mlnote-py"
  },
  "language_info": {
   "codemirror_mode": {
    "name": "ipython",
    "version": 3
   },
   "file_extension": ".py",
   "mimetype": "text/x-python",
   "name": "python",
   "nbconvert_exporter": "python",
   "pygments_lexer": "ipython3",
   "version": "3.10.4"
  }
 },
 "nbformat": 4,
 "nbformat_minor": 5
}
