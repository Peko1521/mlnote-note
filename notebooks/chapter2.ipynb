{
 "cells": [
  {
   "cell_type": "markdown",
   "id": "8c06b5ca-07c8-4924-8ca2-644d1b437b21",
   "metadata": {},
   "source": [
    "# 機械学習帳 確認問題(2.10)\n",
    "\n",
    "[機械学習帳の単回帰の確認問題(2.10)を解きます](https://chokkan.github.io/mlnote/regression/02mra.html#id17)。\n",
    "計算結果を確認するため、2.9で紹介されているNumpyの`polifit`とscikit-learnの`LinearRegression`を使用します。\n",
    "\n",
    "## 講義内容の復習\n",
    "\n",
    "![chapter2-1.PNG](./images/chapter2/chapter2-1.PNG)\n",
    "\n",
    "## 0. データの準備\n",
    "\n",
    "演習用のデータを定義します。"
   ]
  },
  {
   "cell_type": "code",
   "execution_count": 1,
   "id": "3718a8be-f194-4ed2-b666-769666abd327",
   "metadata": {},
   "outputs": [],
   "source": [
    "import numpy as np\n",
    "\n",
    "\n",
    "D = np.array([[1, 3], [3, 6], [6, 5], [8, 7]])\n",
    "X = D[:, 0]\n",
    "Y = D[:, 1]"
   ]
  },
  {
   "cell_type": "code",
   "execution_count": 2,
   "id": "63660907-271c-4f74-ab7f-f1896f0b11c8",
   "metadata": {},
   "outputs": [
    {
     "data": {
      "text/plain": [
       "array([[1., 1.],\n",
       "       [1., 3.],\n",
       "       [1., 6.],\n",
       "       [1., 8.]])"
      ]
     },
     "execution_count": 2,
     "metadata": {},
     "output_type": "execute_result"
    }
   ],
   "source": [
    "np.hstack([np.ones(len(D)).reshape((-1, 1)), D[:,:-1]])"
   ]
  },
  {
   "cell_type": "markdown",
   "id": "56f9bd74-c096-413b-94ec-4b9fd7af200a",
   "metadata": {},
   "source": [
    "## 1. 行列による1次関数のパラメータ推定\n",
    "\n",
    "重回帰のクラス`MultipleRegression`を定義します。`train`でパラメーターを求め、`predict`で目的変数を推定します。\n",
    "パラメーターの計算式は公式の通りです。[Python 3.5から、`@`で行列積を計算できるようになった](https://docs.python.org/ja/3/library/operator.html#operator.__matmul__)ため、利用しています。切片を求めるため、$X$に定数を加えられるか`add_constant`で選択できるようにしています。"
   ]
  },
  {
   "cell_type": "code",
   "execution_count": 3,
   "id": "cc96757a-0993-43e7-b359-a54058e84f09",
   "metadata": {},
   "outputs": [],
   "source": [
    "class MultipleRegression():\n",
    "    \n",
    "    def __init__(self, add_constant=True):\n",
    "        self.w = None\n",
    "        self.add_constant = add_constant\n",
    "    \n",
    "    def train(self, examples):\n",
    "        x = examples[:,:-1]\n",
    "        if self.add_constant:\n",
    "            x = np.hstack([np.ones(len(x)).reshape((-1, 1)), x])\n",
    "        y = examples[:,-1].reshape((-1, 1))\n",
    "        self.w = np.linalg.inv(x.T @ x) @ x.T @ y\n",
    "        return self\n",
    "    \n",
    "    def predict(self, x):\n",
    "        if len(x.shape) == 1:\n",
    "            x = x.reshape((-1, 1))\n",
    "        if self.add_constant:\n",
    "            x = np.hstack([np.ones(len(x)).reshape((-1, 1)), x])\n",
    "        return (x @ self.w).flatten()\n"
   ]
  },
  {
   "cell_type": "code",
   "execution_count": 4,
   "id": "6241396b-2bdf-49c9-9cb9-2f3b4fd41452",
   "metadata": {},
   "outputs": [
    {
     "data": {
      "text/plain": [
       "array([[3.31034483],\n",
       "       [0.43103448]])"
      ]
     },
     "execution_count": 4,
     "metadata": {},
     "output_type": "execute_result"
    }
   ],
   "source": [
    "model = MultipleRegression().train(D)\n",
    "model.w"
   ]
  },
  {
   "cell_type": "markdown",
   "id": "3b17f43c-5026-4d8b-983b-abdecaafe952",
   "metadata": {},
   "source": [
    "`numpy.polynomial.Polynomial`により検算を行う。[`np.polyfit`はNumpy 1.4以降から非推奨となった](https://numpy.org/doc/stable/reference/routines.polynomials.html)。`Polynomial.fit`は`domain`/`window`にスケールされた値を返すので、スケールされる前の値を取得するには`covert`を行う必要がある。"
   ]
  },
  {
   "cell_type": "code",
   "execution_count": 5,
   "id": "4327a987-55a0-41b2-9e2b-7be6e1b878a4",
   "metadata": {},
   "outputs": [],
   "source": [
    "from numpy.polynomial import Polynomial\n",
    "\n",
    "\n",
    "w = Polynomial.fit(X, Y, deg=1).convert()\n",
    "np.testing.assert_allclose(model.w.flatten(), w.coef)"
   ]
  },
  {
   "cell_type": "code",
   "execution_count": 6,
   "id": "524bce1c-475c-4bd3-bf44-e583e71662bb",
   "metadata": {},
   "outputs": [
    {
     "data": {
      "text/plain": [
       "<AxesSubplot:xlabel='x', ylabel='y'>"
      ]
     },
     "execution_count": 6,
     "metadata": {},
     "output_type": "execute_result"
    },
    {
     "data": {
      "image/png": "[encoded data removed]",
      "text/plain": [
       "<Figure size 576x360 with 1 Axes>"
      ]
     },
     "metadata": {
      "needs_background": "light"
     },
     "output_type": "display_data"
    }
   ],
   "source": [
    "import pandas as pd\n",
    "import matplotlib.pyplot as plt\n",
    "\n",
    "\n",
    "fig, ax = plt.subplots(figsize=(8,5))\n",
    "data = pd.DataFrame({\"x\": X, \"y\": Y, \"predict\": model.predict(X)})\n",
    "data.plot.scatter(x=\"x\", y=\"y\", grid=True, ax=ax)\n",
    "data.plot.line(x=\"x\", y=\"predict\", zorder=-1, ax=ax)"
   ]
  },
  {
   "cell_type": "markdown",
   "id": "3aab40e8-490d-4d09-b5bd-a70f6e34bf8a",
   "metadata": {},
   "source": [
    "## 2.2次関数による重回帰\n",
    "\n",
    "2次の値`X**2`を説明変数に入れてパラメーターの計算を行います。"
   ]
  },
  {
   "cell_type": "code",
   "execution_count": 7,
   "id": "d2b390ca-694d-42a3-a210-29f9db2bbb03",
   "metadata": {},
   "outputs": [
    {
     "data": {
      "text/plain": [
       "array([[ 1,  1,  3],\n",
       "       [ 3,  9,  6],\n",
       "       [ 6, 36,  5],\n",
       "       [ 8, 64,  7]])"
      ]
     },
     "execution_count": 7,
     "metadata": {},
     "output_type": "execute_result"
    }
   ],
   "source": [
    "X_squred_examples = np.vstack([X, X**2, Y]).T\n",
    "X_squred_examples"
   ]
  },
  {
   "cell_type": "code",
   "execution_count": 8,
   "id": "728b19a6-a74c-4501-b425-ca2151b618ef",
   "metadata": {},
   "outputs": [
    {
     "data": {
      "text/plain": [
       "array([[ 2.66034483],\n",
       "       [ 0.88103448],\n",
       "       [-0.05      ]])"
      ]
     },
     "execution_count": 8,
     "metadata": {},
     "output_type": "execute_result"
    }
   ],
   "source": [
    "model2 = MultipleRegression().train(X_squred_examples)\n",
    "model2.w"
   ]
  },
  {
   "cell_type": "markdown",
   "id": "4d902181-aee6-4afc-ab80-05323be25d27",
   "metadata": {},
   "source": [
    "scikit-learnの`LinearRegression`を用いて検算します。`PolynomialFeatures`を使用すると指定した次数の特徴を生成してくれるので便利です。"
   ]
  },
  {
   "cell_type": "code",
   "execution_count": 9,
   "id": "4e846a89-e4b8-4ef0-af04-09ab399a2b8a",
   "metadata": {},
   "outputs": [
    {
     "data": {
      "text/plain": [
       "Pipeline(steps=[('polynomialfeatures', PolynomialFeatures()),\n",
       "                ('linearregression', LinearRegression())])"
      ]
     },
     "execution_count": 9,
     "metadata": {},
     "output_type": "execute_result"
    }
   ],
   "source": [
    "from sklearn.linear_model import LinearRegression\n",
    "from sklearn.preprocessing import PolynomialFeatures\n",
    "from sklearn.pipeline import make_pipeline\n",
    "\n",
    "\n",
    "pipeline = make_pipeline(PolynomialFeatures(2), LinearRegression())\n",
    "pipeline.fit(X.reshape(-1, 1), Y)"
   ]
  },
  {
   "cell_type": "code",
   "execution_count": 10,
   "id": "74e063d0-0d6f-4922-abed-889a8523938d",
   "metadata": {},
   "outputs": [],
   "source": [
    "w2 = np.hstack([np.array([pipeline[-1].intercept_]), pipeline[-1].coef_[1:]])"
   ]
  },
  {
   "cell_type": "code",
   "execution_count": 11,
   "id": "0a72acdf-fc7b-4da2-838b-2b6ab00b4525",
   "metadata": {},
   "outputs": [],
   "source": [
    "np.testing.assert_allclose(model2.w.flatten(), w2)"
   ]
  },
  {
   "cell_type": "markdown",
   "id": "9d434bec-7263-4c59-9fef-00a230441b3d",
   "metadata": {},
   "source": [
    "## 3. 回帰曲線の描画\n",
    "\n",
    "回帰で求められた曲線を描画します。"
   ]
  },
  {
   "cell_type": "code",
   "execution_count": 12,
   "id": "4fae21e9-d50b-4878-9733-9509a28d6baa",
   "metadata": {},
   "outputs": [
    {
     "data": {
      "text/plain": [
       "<AxesSubplot:xlabel='x', ylabel='y'>"
      ]
     },
     "execution_count": 12,
     "metadata": {},
     "output_type": "execute_result"
    },
    {
     "data": {
      "image/png": "[encoded data removed]",
      "text/plain": [
       "<Figure size 576x360 with 1 Axes>"
      ]
     },
     "metadata": {
      "needs_background": "light"
     },
     "output_type": "display_data"
    }
   ],
   "source": [
    "fig, ax = plt.subplots(figsize=(8,5))\n",
    "data = pd.DataFrame({\"x\": X, \"y\": Y, \"predict1\": model.predict(X), \"predict2\": model2.predict(X_squred_examples[:, :-1])})\n",
    "data.plot.scatter(x=\"x\", y=\"y\", grid=True, ax=ax)\n",
    "data.plot.line(x=\"x\", y=\"predict1\", zorder=0, ax=ax)\n",
    "data.plot.line(x=\"x\", y=\"predict2\", zorder=-1, ax=ax)"
   ]
  },
  {
   "cell_type": "markdown",
   "id": "8e21b19b-45d0-41b3-ae61-d907da1e3db2",
   "metadata": {},
   "source": [
    "## 4.決定係数\n",
    "\n",
    "単回帰の時と計算は同じです。"
   ]
  },
  {
   "cell_type": "code",
   "execution_count": 13,
   "id": "c53c2566-0048-461e-89cd-108ad3f7265a",
   "metadata": {},
   "outputs": [
    {
     "data": {
      "text/plain": [
       "0.6443349753694578"
      ]
     },
     "execution_count": 13,
     "metadata": {},
     "output_type": "execute_result"
    }
   ],
   "source": [
    "r2 = 1 - np.var(data[\"y\"] - data[\"predict2\"]) / np.var(data[\"y\"])\n",
    "r2"
   ]
  },
  {
   "cell_type": "code",
   "execution_count": 14,
   "id": "aaa9fb3e-7c24-42b0-8e5b-4f29749a0690",
   "metadata": {},
   "outputs": [],
   "source": [
    "from sklearn.metrics import r2_score\n",
    "\n",
    "\n",
    "r2_2 = r2_score(data[\"y\"], data[\"predict2\"])"
   ]
  },
  {
   "cell_type": "code",
   "execution_count": 15,
   "id": "0d7d218c-985e-4738-b124-452f4a299401",
   "metadata": {},
   "outputs": [],
   "source": [
    "np.testing.assert_almost_equal(r2, r2_2)"
   ]
  },
  {
   "cell_type": "markdown",
   "id": "53530e0f-9751-4d1b-b6f9-b4d7037afdb4",
   "metadata": {},
   "source": [
    "## 5. 3次関数による重回帰\n",
    "\n",
    "2次と同じように計算します。"
   ]
  },
  {
   "cell_type": "code",
   "execution_count": 16,
   "id": "eabadd3e-29b8-4708-ab24-c7ef5f843287",
   "metadata": {},
   "outputs": [
    {
     "data": {
      "text/plain": [
       "array([[  1,   1,   1,   3],\n",
       "       [  3,   9,  27,   6],\n",
       "       [  6,  36, 216,   5],\n",
       "       [  8,  64, 512,   7]])"
      ]
     },
     "execution_count": 16,
     "metadata": {},
     "output_type": "execute_result"
    }
   ],
   "source": [
    "X_cubed_examples = np.vstack([X, X**2, X**3, Y]).T\n",
    "X_cubed_examples"
   ]
  },
  {
   "cell_type": "code",
   "execution_count": 17,
   "id": "dd4822de-7c9e-46b4-9542-17e4d14bbcff",
   "metadata": {},
   "outputs": [
    {
     "data": {
      "text/plain": [
       "array([[-1.22857143],\n",
       "       [ 5.40952381],\n",
       "       [-1.27142857],\n",
       "       [ 0.09047619]])"
      ]
     },
     "execution_count": 17,
     "metadata": {},
     "output_type": "execute_result"
    }
   ],
   "source": [
    "model3 = MultipleRegression().train(X_cubed_examples)\n",
    "model3.w"
   ]
  },
  {
   "cell_type": "code",
   "execution_count": 18,
   "id": "c1fa8c91-fc13-46ec-8f90-810aac8db3d6",
   "metadata": {},
   "outputs": [
    {
     "data": {
      "text/plain": [
       "Pipeline(steps=[('polynomialfeatures', PolynomialFeatures(degree=3)),\n",
       "                ('linearregression', LinearRegression())])"
      ]
     },
     "execution_count": 18,
     "metadata": {},
     "output_type": "execute_result"
    }
   ],
   "source": [
    "pipeline = make_pipeline(PolynomialFeatures(3), LinearRegression())\n",
    "pipeline.fit(X.reshape(-1, 1), Y)"
   ]
  },
  {
   "cell_type": "code",
   "execution_count": 19,
   "id": "7616d6bc-7f3a-4352-bf81-6f9a22a1ee69",
   "metadata": {},
   "outputs": [
    {
     "data": {
      "text/plain": [
       "array([-1.22857143,  5.40952381, -1.27142857,  0.09047619])"
      ]
     },
     "execution_count": 19,
     "metadata": {},
     "output_type": "execute_result"
    }
   ],
   "source": [
    "w3 = np.hstack([np.array([pipeline[-1].intercept_]), pipeline[-1].coef_[1:]])\n",
    "w3"
   ]
  },
  {
   "cell_type": "code",
   "execution_count": 20,
   "id": "e7f8e5fc-2962-4b33-834c-932f44fb1c65",
   "metadata": {},
   "outputs": [],
   "source": [
    "np.testing.assert_allclose(model3.w.flatten(), w3)"
   ]
  },
  {
   "cell_type": "markdown",
   "id": "756e7ca3-cfaa-4073-808e-a6a6d2ddecd0",
   "metadata": {},
   "source": [
    "## 6.回帰曲線の描画"
   ]
  },
  {
   "cell_type": "code",
   "execution_count": 21,
   "id": "a8cb7aa2-322a-4c7e-8b1d-9f9a23a3b0ff",
   "metadata": {},
   "outputs": [
    {
     "data": {
      "text/plain": [
       "<AxesSubplot:xlabel='x', ylabel='y'>"
      ]
     },
     "execution_count": 21,
     "metadata": {},
     "output_type": "execute_result"
    },
    {
     "data": {
      "image/png": "[encoded data removed]",
      "text/plain": [
       "<Figure size 576x360 with 1 Axes>"
      ]
     },
     "metadata": {
      "needs_background": "light"
     },
     "output_type": "display_data"
    }
   ],
   "source": [
    "fig, ax = plt.subplots(figsize=(8,5))\n",
    "data = pd.DataFrame({\n",
    "    \"x\": X,\n",
    "    \"y\": Y,\n",
    "    \"predict1\": model.predict(X),\n",
    "    \"predict2\": model2.predict(X_squred_examples[:, :-1]),\n",
    "    \"predict3\": model3.predict(X_cubed_examples[:, :-1]),\n",
    "})\n",
    "data.plot.scatter(x=\"x\", y=\"y\", grid=True, ax=ax)\n",
    "data.plot.line(x=\"x\", y=\"predict1\", zorder=0, ax=ax)\n",
    "data.plot.line(x=\"x\", y=\"predict2\", zorder=1, ax=ax)\n",
    "data.plot.line(x=\"x\", y=\"predict3\", zorder=2, ax=ax)"
   ]
  },
  {
   "cell_type": "markdown",
   "id": "f2025f52-f3d3-46f0-bdf9-580893e297c0",
   "metadata": {},
   "source": [
    "## 7. 決定係数\n"
   ]
  },
  {
   "cell_type": "code",
   "execution_count": 22,
   "id": "ad4d8647-a3e8-43e0-9678-3908498821a3",
   "metadata": {},
   "outputs": [
    {
     "data": {
      "text/plain": [
       "1.0"
      ]
     },
     "execution_count": 22,
     "metadata": {},
     "output_type": "execute_result"
    }
   ],
   "source": [
    "r2 = 1 - np.var(data[\"y\"] - data[\"predict3\"]) / np.var(data[\"y\"])\n",
    "r2"
   ]
  },
  {
   "cell_type": "code",
   "execution_count": 23,
   "id": "86a80269-3a2c-43fe-a00e-6f0f31a66171",
   "metadata": {},
   "outputs": [],
   "source": [
    "r2_3 = r2_score(data[\"y\"], data[\"predict3\"])"
   ]
  },
  {
   "cell_type": "code",
   "execution_count": 24,
   "id": "accd4256-5bcc-4047-ab64-91168b349210",
   "metadata": {},
   "outputs": [],
   "source": [
    "np.testing.assert_almost_equal(r2, r2_3)"
   ]
  }
 ],
 "metadata": {
  "kernelspec": {
   "display_name": "mlnote:Python",
   "language": "python",
   "name": "conda-env-mlnote-py"
  },
  "language_info": {
   "codemirror_mode": {
    "name": "ipython",
    "version": 3
   },
   "file_extension": ".py",
   "mimetype": "text/x-python",
   "name": "python",
   "nbconvert_exporter": "python",
   "pygments_lexer": "ipython3",
   "version": "3.10.4"
  }
 },
 "nbformat": 4,
 "nbformat_minor": 5
}
