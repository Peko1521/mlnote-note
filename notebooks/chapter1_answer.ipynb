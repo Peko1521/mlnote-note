{
 "cells": [
  {
   "cell_type": "markdown",
   "id": "416229aa-be2b-4ec9-9be3-557da5be5bba",
   "metadata": {},
   "source": [
    "# 機械学習帳 確認問題(1.9)\n",
    "\n",
    "[機械学習帳の単回帰の確認問題(1.9)](https://chokkan.github.io/mlnote/regression/01sra.html#id13)を解きます。\n",
    "\n",
    "## 講義内容の復習\n",
    "\n",
    "![chapter1-1](./images/chapter1/chapter1-1.PNG)\n",
    "\n",
    "![chapter1-2](./images/chapter1/chapter1-2.PNG)\n",
    "\n",
    "## 0. データの準備\n",
    "\n",
    "演習用のデータを定義します。"
   ]
  },
  {
   "cell_type": "code",
   "execution_count": 2,
   "id": "cf519af5-3b3c-483f-9a4b-c88cdf044149",
   "metadata": {},
   "outputs": [],
   "source": [
    "import numpy as np\n",
    "\n",
    "\n",
    "D = np.array([[1, 3], [3, 6], [6, 5], [8, 7]])\n",
    "X = D[:,0]\n",
    "Y = D[:,1]"
   ]
  },
  {
   "cell_type": "markdown",
   "id": "f8a8bc71-f335-4ab5-be7d-2fea96cfe0e3",
   "metadata": {},
   "source": [
    "## 1. 単回帰の実装\n",
    "\n",
    "単回帰のクラス`SimpleRegression`を定義します。`train`でパラメーターを求め、`predict`で目的変数を推定します。"
   ]
  },
  {
   "cell_type": "code",
   "execution_count": 3,
   "id": "19a6fb33-61dc-4092-a116-629023f80937",
   "metadata": {},
   "outputs": [],
   "source": [
    "class SimpleRegression():\n",
    "    \n",
    "    def __init__(self):\n",
    "        self.a = None\n",
    "        self.b = None\n",
    "\n",
    "    def train(self, examples):\n",
    "        x = examples[:,0]\n",
    "        y = examples[:,1]\n",
    "        # np.cov returns different value from np.cov\n",
    "        # The reason why is ddof. Please refer he following.\n",
    "        # https://stackoverflow.com/questions/57170335/why-does-np-varx-and-np-covx-y-give-me-different-values\n",
    "        var = np.cov(x, y, ddof=0)\n",
    "        self.a = var[0, 1] / var[0, 0]\n",
    "        self.b = np.mean(y) - self.a * np.mean(x)\n",
    "        return self\n",
    "    \n",
    "    def predict(self, x):\n",
    "        return x * self.a + self.b\n",
    "    \n",
    "    def __repr__(self):\n",
    "        return f\"a={self.a}, b={self.b}\"\n"
   ]
  },
  {
   "cell_type": "code",
   "execution_count": 3,
   "id": "d1272a36-a375-4a18-8bc2-a13e58036890",
   "metadata": {},
   "outputs": [],
   "source": [
    "model = SimpleRegression().train(D)"
   ]
  },
  {
   "cell_type": "markdown",
   "id": "116710a2-2376-4eb9-924e-f001f5d686e3",
   "metadata": {},
   "source": [
    "計算した値が適正か確認するために、a, bの値が[numpyのlstsq](https://numpy.org/doc/stable/reference/generated/numpy.linalg.lstsq.html)で求めた値とほぼ等しいか確認します。lstsqは各説明変数の重みを計算してくれます。切片の値を計算するには、説明変数として値がすべて1の定数を追加します。"
   ]
  },
  {
   "cell_type": "code",
   "execution_count": 4,
   "id": "d0e224c4-5021-4e66-a145-0277e3c3221c",
   "metadata": {},
   "outputs": [],
   "source": [
    "b, a = np.linalg.lstsq(np.vstack([np.ones(len(X)), X]).T, Y, rcond=None)[0]"
   ]
  },
  {
   "cell_type": "code",
   "execution_count": 5,
   "id": "9783540c-3c1b-4b32-bdb9-f6deae4c14c7",
   "metadata": {},
   "outputs": [],
   "source": [
    "np.testing.assert_allclose((a, b), (model.a, model.b))"
   ]
  },
  {
   "cell_type": "markdown",
   "id": "3699e248-1725-42bb-a286-eb152af8ba3b",
   "metadata": {},
   "source": [
    "警告が表示されないため、lstsqで求める値と近しい値が求められていることがわかります。(※値が大きく異なると警告が出ます。試しにaやbに999など値を足してみてください)。"
   ]
  },
  {
   "cell_type": "markdown",
   "id": "8eb03d48-6b80-44cd-957f-04ed3cc30532",
   "metadata": {},
   "source": [
    "## 2. 回帰直線の描画\n",
    "\n",
    "回帰直線を視覚的に確認するため図にプロットします。簡易のため、`pandas.plot`のみで描画します。"
   ]
  },
  {
   "cell_type": "code",
   "execution_count": 6,
   "id": "55907b8a-78f3-4958-b01b-cf0ece11889e",
   "metadata": {},
   "outputs": [
    {
     "data": {
      "text/plain": [
       "<AxesSubplot:xlabel='x', ylabel='y'>"
      ]
     },
     "execution_count": 6,
     "metadata": {},
     "output_type": "execute_result"
    },
    {
     "data": {
      "image/png": "[encoded data removed]",
      "text/plain": [
       "<Figure size 576x360 with 1 Axes>"
      ]
     },
     "metadata": {
      "needs_background": "light"
     },
     "output_type": "display_data"
    }
   ],
   "source": [
    "import pandas as pd\n",
    "import matplotlib.pyplot as plt\n",
    "\n",
    "\n",
    "fig, ax = plt.subplots(figsize=(8,5))\n",
    "data = pd.DataFrame({\"x\": X, \"y\": Y, \"predict\": model.predict(X)})\n",
    "data.plot.scatter(x=\"x\", y=\"y\", grid=True, ax=ax)\n",
    "data.plot.line(x=\"x\", y=\"predict\", zorder=-1, ax=ax)"
   ]
  },
  {
   "cell_type": "markdown",
   "id": "6131ab3e-1025-4844-9827-1bf1d3aa50e8",
   "metadata": {},
   "source": [
    "## 3. 残差の計算\n",
    "\n",
    "目的変数と推定値の差異である残差を計算します。"
   ]
  },
  {
   "cell_type": "code",
   "execution_count": 7,
   "id": "4d512386-9c86-4de4-a898-9d15f326e834",
   "metadata": {},
   "outputs": [],
   "source": [
    "E = data[\"y\"] - data[\"predict\"]"
   ]
  },
  {
   "cell_type": "markdown",
   "id": "a315bbac-55c0-4017-adf9-5a1224e7313e",
   "metadata": {},
   "source": [
    "## 4. 説明変数と残差の共分散\n",
    "\n",
    "説明変数と残差の間に相関がないことを確認します。"
   ]
  },
  {
   "cell_type": "code",
   "execution_count": 8,
   "id": "fac4da57-e4cc-4722-bcbb-c1abef8ac744",
   "metadata": {},
   "outputs": [],
   "source": [
    "cov_x_e = np.cov(X, E)[0, 1]\n",
    "np.testing.assert_almost_equal(cov_x_e, 0)"
   ]
  },
  {
   "cell_type": "markdown",
   "id": "952295af-0ea5-47e1-b54e-0f6a244974ec",
   "metadata": {},
   "source": [
    "## 5. 目的変数の推定値と残差の共分散\n",
    "\n",
    "推定値と残差の間に相関がないことを確認します。"
   ]
  },
  {
   "cell_type": "code",
   "execution_count": 9,
   "id": "107307fb-b76c-4239-aff1-b320b9f9ab11",
   "metadata": {},
   "outputs": [],
   "source": [
    "cov_hat_y_e = np.cov(data[\"predict\"], E)[0, 1]\n",
    "np.testing.assert_almost_equal(cov_hat_y_e, 0)"
   ]
  },
  {
   "cell_type": "markdown",
   "id": "3749108d-3177-418a-b869-c807cad96255",
   "metadata": {},
   "source": [
    "## 6. 決定係数\n",
    "\n",
    "決定係数を求めます。"
   ]
  },
  {
   "cell_type": "code",
   "execution_count": 10,
   "id": "64ddb586-3968-4c3b-ae10-b5e765b49898",
   "metadata": {},
   "outputs": [],
   "source": [
    "r2 = 1 - np.var(E) / np.var(Y)"
   ]
  },
  {
   "cell_type": "markdown",
   "id": "79830408-1912-42b6-be9a-074853c4099a",
   "metadata": {},
   "source": [
    "求めた決定係数が正確かどうか、`scikit-learn`の`r2_score`の値と比較します。"
   ]
  },
  {
   "cell_type": "code",
   "execution_count": 11,
   "id": "0e142b26-0d1c-477b-acc0-0d6dd1262226",
   "metadata": {},
   "outputs": [],
   "source": [
    "from sklearn.metrics import r2_score\n",
    "\n",
    "np.testing.assert_almost_equal(r2, r2_score(Y, data[\"predict\"]))"
   ]
  }
 ],
 "metadata": {
  "kernelspec": {
   "display_name": "mlnote:Python",
   "language": "python",
   "name": "conda-env-mlnote-py"
  },
  "language_info": {
   "codemirror_mode": {
    "name": "ipython",
    "version": 3
   },
   "file_extension": ".py",
   "mimetype": "text/x-python",
   "name": "python",
   "nbconvert_exporter": "python",
   "pygments_lexer": "ipython3",
   "version": "3.10.4"
  }
 },
 "nbformat": 4,
 "nbformat_minor": 5
}
