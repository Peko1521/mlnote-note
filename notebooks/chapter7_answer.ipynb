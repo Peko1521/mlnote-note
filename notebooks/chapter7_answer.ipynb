{
 "cells": [
  {
   "cell_type": "markdown",
   "id": "8c4fc2d9-53db-49c8-999e-c05fe7eb37f7",
   "metadata": {},
   "source": [
    "# 機械学習帳 確認問題(7.4)\n",
    "\n",
    "[機械学習帳のニューラルネットワーク(1)の確認問題(7.4)](https://chokkan.github.io/mlnote/classification/03nn.html#id21)を解きます。\n",
    "\n",
    "## 講義内容の復習\n",
    "\n",
    "![chapter7-1.svg](./images/chapter7/chapter7-1.svg)\n",
    "\n",
    "![chapter7-2.svg](./images/chapter7/chapter7-2.svg)\n",
    "\n",
    "## 0. 関数準備\n",
    "\n",
    "確認問題に使用する関数を準備します。"
   ]
  },
  {
   "cell_type": "code",
   "execution_count": 1,
   "id": "ea63cdfd-a64c-4b83-ad6a-6b7e4ad09d17",
   "metadata": {},
   "outputs": [],
   "source": [
    "def G(x):\n",
    "    if -5 <= x < 4:\n",
    "        i = int(x + 5)\n",
    "        return [-1, 0, 1, 0, -1, 1, 0, 1, -1][i]\n",
    "    else:\n",
    "        return 0"
   ]
  },
  {
   "cell_type": "markdown",
   "id": "24e8604f-81c1-48bc-93c8-9bc7b7bfc7c6",
   "metadata": {},
   "source": [
    "[np.vectorize](https://numpy.org/doc/stable/reference/generated/numpy.vectorize.html)は関数Gの引数にnumpy.arrayを渡し、その計算結果をnumpy.arrayでまとめて受け取れるようにするための「おまじない」です。"
   ]
  },
  {
   "cell_type": "code",
   "execution_count": 2,
   "id": "76a41e31-b881-456a-8078-ce19b8813478",
   "metadata": {},
   "outputs": [
    {
     "data": {
      "image/png": "[encoded data removed]",
      "text/plain": [
       "<Figure size 432x288 with 1 Axes>"
      ]
     },
     "metadata": {
      "needs_background": "light"
     },
     "output_type": "display_data"
    }
   ],
   "source": [
    "import numpy as np\n",
    "import matplotlib.pyplot as plt\n",
    "\n",
    "\n",
    "def plot(ax, f):\n",
    "    X = np.linspace(-4.5, 3.5, 1000)\n",
    "    Y = f(X)\n",
    "    \n",
    "    ax.plot(X, Y, '-')\n",
    "    ax.set_xlabel('$x$')\n",
    "    ax.set_ylabel('$y$')\n",
    "    ax.set_aspect('equal')\n",
    "\n",
    "fig, ax = plt.subplots()\n",
    "g = np.vectorize(G)\n",
    "plot(ax, g)\n",
    "plt.show()"
   ]
  },
  {
   "cell_type": "markdown",
   "id": "198919f0-6552-4730-885f-be52cd2311cc",
   "metadata": {
    "tags": []
   },
   "source": [
    "1層の隠れ層を持つニューラルネットワーク\n",
    "\n",
    "\\begin{align*}\n",
    "F(x) = \\sum_{i=1}^M v_i \\sigma(w_i x + b_i) \\\\\n",
    "\\end{align*}\n",
    "\n",
    "を考える。ここで、$M$は隠れ層のユニット数、$\\pmb{v}, \\pmb{w}, \\pmb{b} \\in \\mathbb{R}^M$はモデルのパラメータです。$M$の値を適当に決定し、関数`G`の出力を再現するパラメータ$\\pmb{v}, \\pmb{w}, \\pmb{b}$を求め、このニューラルネットワークの出力$F(x)$をプロットせよ。\n",
    "\n",
    "まず、Fを定義します。"
   ]
  },
  {
   "cell_type": "code",
   "execution_count": 3,
   "id": "e449a3ba-f63e-4ce4-9e51-f15402d36f9f",
   "metadata": {},
   "outputs": [],
   "source": [
    "def F(x, v, w, b):\n",
    "    def sigmoid(x):  \n",
    "        return np.exp(-np.logaddexp(0, -x))\n",
    "    return np.dot(sigmoid(np.outer(x, w) + b), v)"
   ]
  },
  {
   "cell_type": "markdown",
   "id": "af4f3f82-9328-4511-ab17-26fa7f9fdf62",
   "metadata": {},
   "source": [
    "実装を確認します。"
   ]
  },
  {
   "cell_type": "code",
   "execution_count": 4,
   "id": "03ba26b0-195a-4a13-9c83-fdfa31f6ee71",
   "metadata": {},
   "outputs": [
    {
     "data": {
      "text/plain": [
       "<AxesSubplot:>"
      ]
     },
     "execution_count": 4,
     "metadata": {},
     "output_type": "execute_result"
    },
    {
     "data": {
      "image/png": "[encoded data removed]",
      "text/plain": [
       "<Figure size 432x288 with 1 Axes>"
      ]
     },
     "metadata": {
      "needs_background": "light"
     },
     "output_type": "display_data"
    }
   ],
   "source": [
    "import pandas as pd\n",
    "\n",
    "\n",
    "X = np.linspace(-10, 10, 1000)\n",
    "pd.Series(F(X, np.array([1]), np.array([1]), np.array([1])), index=X).plot.line()"
   ]
  },
  {
   "cell_type": "markdown",
   "id": "a93ac2e9-64a0-4fa9-90fe-179ea1c73514",
   "metadata": {},
   "source": [
    "$w$は1000に固定します。"
   ]
  },
  {
   "cell_type": "code",
   "execution_count": 5,
   "id": "79202507-1ac3-4994-88f5-df7310564522",
   "metadata": {},
   "outputs": [],
   "source": [
    "w = 1000"
   ]
  },
  {
   "cell_type": "markdown",
   "id": "5c91d797-4f6e-46d8-969a-6f2df2b03592",
   "metadata": {},
   "source": [
    "$b$: 矩形の変化する位置を設定します。"
   ]
  },
  {
   "cell_type": "code",
   "execution_count": 6,
   "id": "27b4432e-df2d-4ca8-8038-5f00ddef8b55",
   "metadata": {},
   "outputs": [],
   "source": [
    "B = [5000, 4000, 3000, 2000, 1000, 0, -1000, -2000, -3000]"
   ]
  },
  {
   "cell_type": "markdown",
   "id": "47bd7450-876b-44c2-88be-5139b8211bff",
   "metadata": {},
   "source": [
    "$v$: 矩形の変化方向と大きさを設定します。"
   ]
  },
  {
   "cell_type": "code",
   "execution_count": 7,
   "id": "9509189f-dbd1-4bc1-827d-9c7da7817fdd",
   "metadata": {},
   "outputs": [],
   "source": [
    "V = [-1, 1, 1, -1, -1, 2, -1, 1, -2]"
   ]
  },
  {
   "cell_type": "code",
   "execution_count": 8,
   "id": "2c821278-f28c-4f62-8f19-717b87c9cd92",
   "metadata": {},
   "outputs": [],
   "source": [
    "X = np.linspace(-4.5, 3.5, 1000)"
   ]
  },
  {
   "cell_type": "code",
   "execution_count": 9,
   "id": "ab178596-150a-43db-b7fb-57ae36f2100f",
   "metadata": {},
   "outputs": [
    {
     "data": {
      "text/plain": [
       "<AxesSubplot:>"
      ]
     },
     "execution_count": 9,
     "metadata": {},
     "output_type": "execute_result"
    },
    {
     "data": {
      "image/png": "[encoded data removed]",
      "text/plain": [
       "<Figure size 432x144 with 1 Axes>"
      ]
     },
     "metadata": {
      "needs_background": "light"
     },
     "output_type": "display_data"
    }
   ],
   "source": [
    "pd.Series(F(X, V, w, B), index=X).plot.line(figsize=(6, 2))"
   ]
  },
  {
   "cell_type": "code",
   "execution_count": null,
   "id": "2fd75e52-5dce-43e1-8b09-58e8a2b83e0b",
   "metadata": {},
   "outputs": [],
   "source": []
  }
 ],
 "metadata": {
  "kernelspec": {
   "display_name": "mlnote:Python",
   "language": "python",
   "name": "conda-env-mlnote-py"
  },
  "language_info": {
   "codemirror_mode": {
    "name": "ipython",
    "version": 3
   },
   "file_extension": ".py",
   "mimetype": "text/x-python",
   "name": "python",
   "nbconvert_exporter": "python",
   "pygments_lexer": "ipython3",
   "version": "3.10.4"
  }
 },
 "nbformat": 4,
 "nbformat_minor": 5
}
