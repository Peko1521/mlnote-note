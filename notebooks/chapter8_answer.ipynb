{
 "cells": [
  {
   "cell_type": "markdown",
   "id": "8c4fc2d9-53db-49c8-999e-c05fe7eb37f7",
   "metadata": {},
   "source": [
    "# 機械学習帳 確認問題(8.4, 8.5)\n",
    "\n",
    "[機械学習帳のニューラルネットワーク(2)の確認問題(8.4, 8.5)](https://chokkan.github.io/mlnote/classification/04nntrain.html#id13)を解きます。\n",
    "\n",
    "## 講義内容の復習\n",
    "\n",
    "![chapter8-1.svg](./images/chapter8/chapter8-1.svg)\n",
    "\n",
    "![chapter8-2.svg](./images/chapter8/chapter8-2.svg)\n",
    "\n",
    "## 8.4 自動微分\n",
    "\n",
    "2次元の入力$\\pmb{x} \\in \\mathbb{R}^{2}$を受け取り、2次元の中間層$\\pmb{h} \\in \\mathbb{R}^{2}$を介して、$\\hat{y} \\in \\mathbb{R}$を出力する2層のニューラルネットワークを次式で定義する。\n",
    "\\begin{align*}\n",
    "\\hat{y} = \\sigma(\\pmb{h}^{\\top}\\pmb{q}+c), \\; \\pmb{h}=\\mathrm{ReLU}(\\pmb{W}\\pmb{x} + \\pmb{b})\n",
    "\\end{align*}\n",
    "ただし、$\\sigma(.)$はシグモイド関数であり、$\\mathrm{ReLU}(a) = \\max(a, 0)$である。また、$\\pmb{W} \\in \\mathbb{R}^{2 \\times 2}, \\pmb{q} \\in \\mathbb{R}^{2}, b \\in \\mathbb{R}^2, c \\in \\mathbb{R}$はモデルのパラメータであり、以下に示す値に設定されているとする。\n",
    "\\begin{align*}\n",
    "\\pmb{W} = \\begin{pmatrix}1 & 1 \\\\ -1 & -1\\end{pmatrix}, \\; \\pmb{q} = \\begin{pmatrix}1 \\\\ 1\\end{pmatrix}, \\; \\pmb{b} = \\begin{pmatrix}-0.5 \\\\ 1.5\\end{pmatrix}, \\; c = -1.5\n",
    "\\end{align*}\n",
    "\n",
    "### 8.4.1 出力の計算\n",
    "\n",
    "このモデルに入力$\\pmb{x}=\\begin{pmatrix}0 \\\\ 0\\end{pmatrix}$が与えられたとき、中間層の値$\\pmb{h}$と出力値$\\hat{y}$を求めよ。"
   ]
  },
  {
   "cell_type": "code",
   "execution_count": 1,
   "id": "ea63cdfd-a64c-4b83-ad6a-6b7e4ad09d17",
   "metadata": {},
   "outputs": [
    {
     "name": "stdout",
     "output_type": "stream",
     "text": [
      "hidden = tensor([0.0000, 1.5000], grad_fn=<ReluBackward0>)\n",
      "output = tensor([0.5000], grad_fn=<SigmoidBackward0>)\n"
     ]
    }
   ],
   "source": [
    "import numpy as np\n",
    "import torch\n",
    "\n",
    "\n",
    "dtype = torch.float\n",
    "\n",
    "# Variables\n",
    "W = torch.tensor(np.array([[1, 1], [-1, 1]]), requires_grad=True, dtype=dtype)\n",
    "b = torch.tensor(np.array([-0.5, 1.5]), requires_grad=True, dtype=dtype)\n",
    "q = torch.tensor(np.array([1, 1]), requires_grad=True, dtype=dtype)\n",
    "c = torch.tensor(np.array([-1.5]), requires_grad=True, dtype=dtype)\n",
    "\n",
    "x = torch.from_numpy(np.zeros(2)).type(dtype)\n",
    "\n",
    "# Forward\n",
    "hidden = (x @ W + b).relu()\n",
    "output = (hidden @ q + c).sigmoid()\n",
    "\n",
    "print(f\"hidden = {hidden}\")\n",
    "print(f\"output = {output}\")"
   ]
  },
  {
   "cell_type": "markdown",
   "id": "24e8604f-81c1-48bc-93c8-9bc7b7bfc7c6",
   "metadata": {},
   "source": [
    "### 8.4.2 勾配の計算\n",
    "\n",
    "ある学習事例$(\\pmb{x}, y) = \\left(\\begin{pmatrix}1 \\\\ 1 \\end{pmatrix}, 0\\right)$に対して、このニューラルネットワークをクロスエントロピー損失関数の値、および損失関数の$\\pmb{W}$, $\\pmb{q}$, $\\pmb{b}$, $c$に関する勾配の値を求めよ。\n",
    "\n",
    "損失関数は$- y \\log p - (1 - y)\\log (1-p)$であり、$y = 0$のため$-\\log(1-p)$となる。"
   ]
  },
  {
   "cell_type": "code",
   "execution_count": 2,
   "id": "ee5c8da7-fc9a-40cd-97a4-62f203dec531",
   "metadata": {},
   "outputs": [
    {
     "name": "stdout",
     "output_type": "stream",
     "text": [
      "loss=tensor([0.6931], grad_fn=<NegBackward0>)\n"
     ]
    }
   ],
   "source": [
    "loss = - torch.log((torch.ones(1) - output))\n",
    "print(f\"loss={loss}\")"
   ]
  },
  {
   "cell_type": "code",
   "execution_count": 3,
   "id": "8952fe73-42da-4262-a9d7-3f379cd25607",
   "metadata": {},
   "outputs": [
    {
     "name": "stdout",
     "output_type": "stream",
     "text": [
      "gradient W: tensor([[0., 0.],\n",
      "        [0., 0.]])\n",
      "gradient b: tensor([0.0000, 0.5000])\n",
      "gradient q: tensor([0.0000, 0.7500])\n",
      "gradient c: tensor([0.5000])\n"
     ]
    }
   ],
   "source": [
    "loss.backward()\n",
    "print(f\"gradient W: {W.grad}\")\n",
    "print(f\"gradient b: {b.grad}\")\n",
    "print(f\"gradient q: {q.grad}\")\n",
    "print(f\"gradient c: {c.grad}\")"
   ]
  },
  {
   "cell_type": "markdown",
   "id": "a4b0d6eb-6633-4b66-8f5f-37015f996852",
   "metadata": {},
   "source": [
    "## 8.5 NNの学習\n",
    "\n",
    "### 8.5.1 モデルの学習\n",
    "\n",
    "MNISTの訓練データを用いて単層のニューラルネットワークを学習せよ。このとき、各エポック毎に以下の評価値を計算し、グラフとして表示せよ。\n",
    "\n",
    "+ 訓練データ上の損失関数の値\n",
    "+ 訓練データ上の正解率\n",
    "+ 評価データ上の損失関数の値\n",
    "+ 評価データ上の正解率\n",
    "\n",
    "#### データの準備\n",
    "\n",
    "MNISTのデータを準備します(6章で使用したコードを再掲)"
   ]
  },
  {
   "cell_type": "code",
   "execution_count": 4,
   "id": "0f91091c-73d0-4ef0-a5f0-15573249909e",
   "metadata": {
    "tags": []
   },
   "outputs": [
    {
     "name": "stdout",
     "output_type": "stream",
     "text": [
      "Training data (X): (60000, 28, 28) float32\n",
      "Training data (Y): (60000,) uint8\n",
      "Test data (X): (10000, 28, 28) float32\n",
      "Test data (Y): (10000,) uint8\n"
     ]
    }
   ],
   "source": [
    "import gzip\n",
    "import sys\n",
    "import struct\n",
    "import urllib.request\n",
    "from pathlib import Path\n",
    "import numpy as np\n",
    "\n",
    "def read_image(fi):\n",
    "    magic, n, rows, columns = struct.unpack(\">IIII\", fi.read(16))\n",
    "    assert magic == 0x00000803\n",
    "    assert rows == 28\n",
    "    assert columns == 28\n",
    "    rawbuffer = fi.read()\n",
    "    assert len(rawbuffer) == n * rows * columns\n",
    "    rawdata = np.frombuffer(rawbuffer, dtype='>u1', count=n*rows*columns)\n",
    "    return rawdata.reshape(n, rows, columns).astype(np.float32) / 255.0\n",
    "\n",
    "def read_label(fi):\n",
    "    magic, n = struct.unpack(\">II\", fi.read(8))\n",
    "    assert magic == 0x00000801\n",
    "    rawbuffer = fi.read()\n",
    "    assert len(rawbuffer) == n\n",
    "    return np.frombuffer(rawbuffer, dtype='>u1', count=n)\n",
    "\n",
    "def openurl_gzip(url):\n",
    "    request = urllib.request.Request(\n",
    "        url,\n",
    "        headers={\n",
    "            \"Accept-Encoding\": \"gzip\",\n",
    "            \"User-Agent\": \"Mozilla/5.0 (X11; U; Linux i686) Gecko/20071127 Firefox/2.0.0.11\", \n",
    "        })\n",
    "    response = urllib.request.urlopen(request)\n",
    "    return gzip.GzipFile(fileobj=response, mode='rb')\n",
    "\n",
    "def save_mnist():\n",
    "    if Path(\"data/mnist.npz\").exists():\n",
    "        return\n",
    "    np.savez_compressed(\n",
    "        \"data/mnist\",\n",
    "        train_x=read_image(openurl_gzip(\"http://yann.lecun.com/exdb/mnist/train-images-idx3-ubyte.gz\")),\n",
    "        train_y=read_label(openurl_gzip(\"http://yann.lecun.com/exdb/mnist/train-labels-idx1-ubyte.gz\")),\n",
    "        test_x=read_image(openurl_gzip(\"http://yann.lecun.com/exdb/mnist/t10k-images-idx3-ubyte.gz\")),\n",
    "        test_y=read_label(openurl_gzip(\"http://yann.lecun.com/exdb/mnist/t10k-labels-idx1-ubyte.gz\"))\n",
    "    )\n",
    "\n",
    "save_mnist()\n",
    "data = np.load(\"data/mnist.npz\")\n",
    "print(\"Training data (X):\", data[\"train_x\"].shape, data[\"train_x\"].dtype)\n",
    "print(\"Training data (Y):\", data[\"train_y\"].shape, data[\"train_y\"].dtype)\n",
    "print(\"Test data (X):\", data[\"test_x\"].shape, data[\"test_x\"].dtype)\n",
    "print(\"Test data (Y):\", data[\"test_y\"].shape, data[\"test_y\"].dtype)"
   ]
  },
  {
   "cell_type": "code",
   "execution_count": 5,
   "id": "58ec216c-d0e7-41e9-8411-526743760837",
   "metadata": {},
   "outputs": [],
   "source": [
    "num_category = 10"
   ]
  },
  {
   "cell_type": "code",
   "execution_count": 6,
   "id": "9fdd888c-8dd6-492c-b764-498e86a5784f",
   "metadata": {},
   "outputs": [
    {
     "name": "stdout",
     "output_type": "stream",
     "text": [
      "(60000, 784)\n",
      "(60000, 10)\n"
     ]
    }
   ],
   "source": [
    "X_train = data[\"train_x\"].reshape((data[\"train_x\"].shape[0], -1))\n",
    "Y_train = np.zeros((data[\"train_y\"].shape[0], num_category))\n",
    "Y_train[np.arange(len(data[\"train_y\"])), data[\"train_y\"]] = 1.0\n",
    "print(X_train.shape)\n",
    "print(Y_train.shape)"
   ]
  },
  {
   "cell_type": "code",
   "execution_count": 7,
   "id": "6996d388-0e9c-44ed-826a-aec8c441b79b",
   "metadata": {},
   "outputs": [
    {
     "name": "stdout",
     "output_type": "stream",
     "text": [
      "(10000, 784)\n",
      "(10000, 10)\n"
     ]
    }
   ],
   "source": [
    "X_test = data[\"test_x\"].reshape((data[\"test_x\"].shape[0], -1))\n",
    "Y_test = np.zeros((data[\"test_y\"].shape[0], num_category))\n",
    "Y_test[np.arange(len(data[\"test_y\"])), data[\"test_y\"]] = 1.0\n",
    "print(X_test.shape)\n",
    "print(Y_test.shape)"
   ]
  },
  {
   "cell_type": "code",
   "execution_count": 8,
   "id": "45d9130b-ea91-4ef3-b854-03d6faef48e4",
   "metadata": {},
   "outputs": [],
   "source": [
    "from torch.utils.data import TensorDataset\n",
    "\n",
    "\n",
    "train_data = TensorDataset(\n",
    "    torch.from_numpy(X_train).type(dtype),\n",
    "    torch.from_numpy(Y_train).type(dtype)\n",
    ")\n",
    "test_data = TensorDataset(\n",
    "    torch.from_numpy(X_test).type(dtype),\n",
    "    torch.from_numpy(Y_test).type(dtype)\n",
    ")"
   ]
  },
  {
   "cell_type": "markdown",
   "id": "4aa679bf-4c1b-451e-aaf5-74a4d020d5e0",
   "metadata": {},
   "source": [
    "#### モデルの学習"
   ]
  },
  {
   "cell_type": "code",
   "execution_count": 9,
   "id": "75f10e04-3cd1-4922-b9de-a8f3c5f038e9",
   "metadata": {},
   "outputs": [],
   "source": [
    "from torch.utils.data import DataLoader\n",
    "\n",
    "\n",
    "model = torch.nn.Sequential(\n",
    "    torch.nn.Linear(28 * 28, 10),\n",
    "    torch.nn.Softmax(dim=1)\n",
    ")\n",
    "\n",
    "loss_function = torch.nn.CrossEntropyLoss()\n",
    "optimizer = torch.optim.SGD(model.parameters(), lr=0.01)\n",
    "loader = DataLoader(train_data, batch_size=32, shuffle=True)\n",
    "\n",
    "history = []\n",
    "for t in range(30):\n",
    "    sum_loss = 0\n",
    "    for x, y in loader:\n",
    "        loss = loss_function(y, model(x))\n",
    "        sum_loss += loss.item()\n",
    "        optimizer.zero_grad()\n",
    "        loss.backward()\n",
    "        optimizer.step()\n",
    "    \n",
    "    history.append(sum_loss)"
   ]
  },
  {
   "cell_type": "code",
   "execution_count": 10,
   "id": "8860ef8c-56d2-4d9a-aec9-4d85d5e55a15",
   "metadata": {},
   "outputs": [
    {
     "data": {
      "text/plain": [
       "<AxesSubplot:title={'center':'loss per epoch'}>"
      ]
     },
     "execution_count": 10,
     "metadata": {},
     "output_type": "execute_result"
    },
    {
     "data": {
      "image/png": "[encoded data removed]",
      "text/plain": [
       "<Figure size 432x288 with 1 Axes>"
      ]
     },
     "metadata": {
      "needs_background": "light"
     },
     "output_type": "display_data"
    }
   ],
   "source": [
    "import pandas as pd\n",
    "\n",
    "\n",
    "pd.Series(history).plot.line(title=\"loss per epoch\")"
   ]
  },
  {
   "cell_type": "markdown",
   "id": "65e24af9-0830-4de5-9448-d2f0d8e28032",
   "metadata": {},
   "source": [
    "### 8.5.2 適合率、再現率、F1スコア\n",
    "\n",
    "(1)で学習したモデルに対して、評価データ上で以下の評価値を計算せよ。\n",
    "\n",
    "+ 各カテゴリ（数字）に対する適合率、再現率、F1スコア\n",
    "+ 各カテゴリの適合率、再現率、F1スコアのマクロ平均を取ったもの"
   ]
  },
  {
   "cell_type": "code",
   "execution_count": 11,
   "id": "20b69e37-f69f-43a9-aeb6-e471cfaf2926",
   "metadata": {},
   "outputs": [
    {
     "name": "stdout",
     "output_type": "stream",
     "text": [
      "              precision    recall  f1-score   support\n",
      "\n",
      "           0       0.92      0.98      0.95       980\n",
      "           1       0.96      0.97      0.96      1135\n",
      "           2       0.92      0.87      0.89      1032\n",
      "           3       0.90      0.89      0.90      1010\n",
      "           4       0.89      0.93      0.91       982\n",
      "           5       0.89      0.79      0.84       892\n",
      "           6       0.92      0.94      0.93       958\n",
      "           7       0.91      0.91      0.91      1028\n",
      "           8       0.84      0.89      0.86       974\n",
      "           9       0.90      0.88      0.89      1009\n",
      "\n",
      "    accuracy                           0.91     10000\n",
      "   macro avg       0.91      0.90      0.90     10000\n",
      "weighted avg       0.91      0.91      0.91     10000\n",
      "\n"
     ]
    }
   ],
   "source": [
    "from sklearn.metrics import classification_report\n",
    "\n",
    "\n",
    "y_hat = None\n",
    "with torch.inference_mode():\n",
    "    y_proba = model(torch.from_numpy(X_test).type(dtype)).numpy()\n",
    "    y_hat = np.argmax(y_proba, axis=1)\n",
    "    y_max_proba = np.amax(y_proba, axis=1)\n",
    "\n",
    "print(classification_report(data[\"test_y\"], y_hat))"
   ]
  },
  {
   "cell_type": "markdown",
   "id": "35cebf30-39d7-4457-a650-fb41462681d2",
   "metadata": {},
   "source": [
    "### 8.5.3 混同行列\n",
    "\n",
    "(1)で学習したモデルに対して、評価データ上で混同行列を計算せよ。\n",
    "\n",
    "上記参照"
   ]
  },
  {
   "cell_type": "markdown",
   "id": "e4133b92-a8ef-4a4d-8daf-3010d687cdcf",
   "metadata": {},
   "source": [
    "### 8.5.4 紛らわしい事例\n",
    "\n",
    "(1)で学習したモデルにとって認識が簡単な評価事例トップ3と、難しい評価事例トップ3を求めたい。ある事例$x_i$に対して、正解のカテゴリを$y_i$、モデルが予測したカテゴリを$\\hat{y}_i$とする。モデルが認識に成功した（つまり$\\hat{y}_i = y_i$となる）事例に対して、認識の簡単さを条件付き確率$p(\\hat{y} | x)$で定義する。一方で、モデルが認識に失敗した（つまり$\\hat{y}_i \\neq y_i$となる）事例に対しても、認識の難しさを条件付き確率$p(\\hat{y} | x)$で定義する。\n",
    "\n",
    "このようにして見つけた6件の評価事例のそれぞれに対して、$y_i$, $p(y_i | x_i)$, $\\hat{y}_i$, $p(\\hat{y}_i | x_i)$とその事例の画像を表示せよ。"
   ]
  },
  {
   "cell_type": "code",
   "execution_count": 12,
   "id": "b26769f2-deb6-4d8a-8470-b868e7778d45",
   "metadata": {},
   "outputs": [],
   "source": [
    "import matplotlib.pyplot as plt\n",
    "\n",
    "\n",
    "def mnist_plot(x, y, y_hat):\n",
    "    fig = plt.figure(dpi=100)\n",
    "    ax = fig.add_subplot(1,1,1)\n",
    "    ax.set_title(f\"Gold label: {y}, Predicted: {y_hat}\")\n",
    "    im = ax.imshow(x)\n",
    "    fig.colorbar(im)\n",
    "    plt.show()"
   ]
  },
  {
   "cell_type": "code",
   "execution_count": 13,
   "id": "1c04bacf-e71d-439d-bc3d-d86ae684aec0",
   "metadata": {},
   "outputs": [
    {
     "data": {
      "text/html": [
       "<div>\n",
       "<style scoped>\n",
       "    .dataframe tbody tr th:only-of-type {\n",
       "        vertical-align: middle;\n",
       "    }\n",
       "\n",
       "    .dataframe tbody tr th {\n",
       "        vertical-align: top;\n",
       "    }\n",
       "\n",
       "    .dataframe thead th {\n",
       "        text-align: right;\n",
       "    }\n",
       "</style>\n",
       "<table border=\"1\" class=\"dataframe\">\n",
       "  <thead>\n",
       "    <tr style=\"text-align: right;\">\n",
       "      <th></th>\n",
       "      <th>y</th>\n",
       "      <th>y_hat</th>\n",
       "      <th>y_proba</th>\n",
       "    </tr>\n",
       "  </thead>\n",
       "  <tbody>\n",
       "    <tr>\n",
       "      <th>1341</th>\n",
       "      <td>2</td>\n",
       "      <td>2</td>\n",
       "      <td>1.0</td>\n",
       "    </tr>\n",
       "    <tr>\n",
       "      <th>3668</th>\n",
       "      <td>2</td>\n",
       "      <td>2</td>\n",
       "      <td>1.0</td>\n",
       "    </tr>\n",
       "    <tr>\n",
       "      <th>5297</th>\n",
       "      <td>7</td>\n",
       "      <td>7</td>\n",
       "      <td>1.0</td>\n",
       "    </tr>\n",
       "  </tbody>\n",
       "</table>\n",
       "</div>"
      ],
      "text/plain": [
       "      y  y_hat  y_proba\n",
       "1341  2      2      1.0\n",
       "3668  2      2      1.0\n",
       "5297  7      7      1.0"
      ]
     },
     "execution_count": 13,
     "metadata": {},
     "output_type": "execute_result"
    }
   ],
   "source": [
    "predictions_df = pd.DataFrame({\n",
    "    \"y\": data[\"test_y\"],\n",
    "    \"y_hat\": y_hat,\n",
    "    \"y_proba\": y_max_proba\n",
    "})\n",
    "\n",
    "correct_df = predictions_df[(predictions_df[\"y\"] == predictions_df[\"y_hat\"])]\n",
    "correct_df.nlargest(3, \"y_proba\")"
   ]
  },
  {
   "cell_type": "code",
   "execution_count": 14,
   "id": "fc73ae62-60ac-412a-92ab-cfe072123e11",
   "metadata": {},
   "outputs": [
    {
     "data": {
      "image/png": "[encoded data removed]",
      "text/plain": [
       "<Figure size 600x400 with 2 Axes>"
      ]
     },
     "metadata": {
      "needs_background": "light"
     },
     "output_type": "display_data"
    },
    {
     "data": {
      "image/png": "[encoded data removed]",
      "text/plain": [
       "<Figure size 600x400 with 2 Axes>"
      ]
     },
     "metadata": {
      "needs_background": "light"
     },
     "output_type": "display_data"
    },
    {
     "data": {
      "image/png": "[encoded data removed]",
      "text/plain": [
       "<Figure size 600x400 with 2 Axes>"
      ]
     },
     "metadata": {
      "needs_background": "light"
     },
     "output_type": "display_data"
    }
   ],
   "source": [
    "for i in correct_df.nlargest(3, \"y_proba\").index:\n",
    "    mnist_plot(data[\"test_x\"][i].reshape((28, 28)), predictions_df[\"y\"][i], predictions_df[\"y_hat\"][i])"
   ]
  },
  {
   "cell_type": "code",
   "execution_count": 15,
   "id": "a2e506d8-add7-4497-8871-d8e7ab9cc175",
   "metadata": {},
   "outputs": [
    {
     "data": {
      "text/html": [
       "<div>\n",
       "<style scoped>\n",
       "    .dataframe tbody tr th:only-of-type {\n",
       "        vertical-align: middle;\n",
       "    }\n",
       "\n",
       "    .dataframe tbody tr th {\n",
       "        vertical-align: top;\n",
       "    }\n",
       "\n",
       "    .dataframe thead th {\n",
       "        text-align: right;\n",
       "    }\n",
       "</style>\n",
       "<table border=\"1\" class=\"dataframe\">\n",
       "  <thead>\n",
       "    <tr style=\"text-align: right;\">\n",
       "      <th></th>\n",
       "      <th>y</th>\n",
       "      <th>y_hat</th>\n",
       "      <th>y_proba</th>\n",
       "    </tr>\n",
       "  </thead>\n",
       "  <tbody>\n",
       "    <tr>\n",
       "      <th>7195</th>\n",
       "      <td>5</td>\n",
       "      <td>7</td>\n",
       "      <td>0.174164</td>\n",
       "    </tr>\n",
       "    <tr>\n",
       "      <th>1782</th>\n",
       "      <td>8</td>\n",
       "      <td>2</td>\n",
       "      <td>0.229295</td>\n",
       "    </tr>\n",
       "    <tr>\n",
       "      <th>4248</th>\n",
       "      <td>2</td>\n",
       "      <td>4</td>\n",
       "      <td>0.267513</td>\n",
       "    </tr>\n",
       "  </tbody>\n",
       "</table>\n",
       "</div>"
      ],
      "text/plain": [
       "      y  y_hat   y_proba\n",
       "7195  5      7  0.174164\n",
       "1782  8      2  0.229295\n",
       "4248  2      4  0.267513"
      ]
     },
     "execution_count": 15,
     "metadata": {},
     "output_type": "execute_result"
    }
   ],
   "source": [
    "different_df = predictions_df[(predictions_df[\"y\"] != predictions_df[\"y_hat\"])]\n",
    "different_df.nsmallest(3, \"y_proba\")"
   ]
  },
  {
   "cell_type": "code",
   "execution_count": 16,
   "id": "9c5f154c-3d75-45b3-a531-13d32189709e",
   "metadata": {},
   "outputs": [
    {
     "data": {
      "image/png": "[encoded data removed]",
      "text/plain": [
       "<Figure size 600x400 with 2 Axes>"
      ]
     },
     "metadata": {
      "needs_background": "light"
     },
     "output_type": "display_data"
    },
    {
     "data": {
      "image/png": "[encoded data removed]",
      "text/plain": [
       "<Figure size 600x400 with 2 Axes>"
      ]
     },
     "metadata": {
      "needs_background": "light"
     },
     "output_type": "display_data"
    },
    {
     "data": {
      "image/png": "[encoded data removed]",
      "text/plain": [
       "<Figure size 600x400 with 2 Axes>"
      ]
     },
     "metadata": {
      "needs_background": "light"
     },
     "output_type": "display_data"
    }
   ],
   "source": [
    "for i in different_df.nsmallest(3, \"y_proba\").index:\n",
    "    mnist_plot(data[\"test_x\"][i].reshape((28, 28)), predictions_df[\"y\"][i], predictions_df[\"y_hat\"][i])"
   ]
  },
  {
   "cell_type": "markdown",
   "id": "5db30cda-2811-4f7b-bb46-28f1f7698355",
   "metadata": {},
   "source": [
    "### 8.5.5 多層ニューラルネットワーク\n",
    "\n",
    "多層ニューラルネットワークを適当に構成し、(1)の実験を再度実行せよ。どのようなネットワーク構成にするかは任意である。"
   ]
  },
  {
   "cell_type": "code",
   "execution_count": 17,
   "id": "5c8dd61e-4dd8-484e-ab77-cc0dc806ba5f",
   "metadata": {},
   "outputs": [],
   "source": [
    "model_mlp = torch.nn.Sequential(\n",
    "    torch.nn.Linear(28 * 28, 512),\n",
    "    torch.nn.ReLU(),\n",
    "    torch.nn.Linear(512, 256),\n",
    "    torch.nn.ReLU(),\n",
    "    torch.nn.Linear(256, 10),\n",
    "    torch.nn.Softmax(dim=1)\n",
    ")\n",
    "\n",
    "\n",
    "optimizer_mlp = torch.optim.SGD(model_mlp.parameters(), lr=0.01)\n",
    "\n",
    "history = []\n",
    "for t in range(30):\n",
    "    sum_loss = 0\n",
    "    for x, y in loader:\n",
    "        loss = loss_function(y, model_mlp(x))\n",
    "        sum_loss += loss.item()\n",
    "        optimizer_mlp.zero_grad()\n",
    "        loss.backward()\n",
    "        optimizer_mlp.step()\n",
    "    \n",
    "    history.append(sum_loss)"
   ]
  },
  {
   "cell_type": "code",
   "execution_count": 18,
   "id": "6cde9a40-e97b-4ad7-a489-087bd370b5ca",
   "metadata": {},
   "outputs": [
    {
     "data": {
      "text/plain": [
       "<AxesSubplot:title={'center':'loss per epoch'}>"
      ]
     },
     "execution_count": 18,
     "metadata": {},
     "output_type": "execute_result"
    },
    {
     "data": {
      "image/png": "[encoded data removed]",
      "text/plain": [
       "<Figure size 432x288 with 1 Axes>"
      ]
     },
     "metadata": {
      "needs_background": "light"
     },
     "output_type": "display_data"
    }
   ],
   "source": [
    "pd.Series(history).plot.line(title=\"loss per epoch\")"
   ]
  },
  {
   "cell_type": "code",
   "execution_count": 19,
   "id": "d2fd5b42-2feb-42f3-95d2-ff2afcef0952",
   "metadata": {},
   "outputs": [
    {
     "name": "stdout",
     "output_type": "stream",
     "text": [
      "              precision    recall  f1-score   support\n",
      "\n",
      "           0       0.90      0.98      0.94       980\n",
      "           1       0.97      0.98      0.98      1135\n",
      "           2       0.93      0.92      0.92      1032\n",
      "           3       0.73      0.94      0.82      1010\n",
      "           4       0.90      0.95      0.92       982\n",
      "           5       0.00      0.00      0.00       892\n",
      "           6       0.91      0.96      0.93       958\n",
      "           7       0.93      0.93      0.93      1028\n",
      "           8       0.67      0.94      0.78       974\n",
      "           9       0.92      0.92      0.92      1009\n",
      "\n",
      "    accuracy                           0.86     10000\n",
      "   macro avg       0.78      0.85      0.81     10000\n",
      "weighted avg       0.80      0.86      0.83     10000\n",
      "\n"
     ]
    },
    {
     "name": "stderr",
     "output_type": "stream",
     "text": [
      "/home/studio-lab-user/.conda/envs/mlnote/lib/python3.10/site-packages/sklearn/metrics/_classification.py:1318: UndefinedMetricWarning: Precision and F-score are ill-defined and being set to 0.0 in labels with no predicted samples. Use `zero_division` parameter to control this behavior.\n",
      "  _warn_prf(average, modifier, msg_start, len(result))\n",
      "/home/studio-lab-user/.conda/envs/mlnote/lib/python3.10/site-packages/sklearn/metrics/_classification.py:1318: UndefinedMetricWarning: Precision and F-score are ill-defined and being set to 0.0 in labels with no predicted samples. Use `zero_division` parameter to control this behavior.\n",
      "  _warn_prf(average, modifier, msg_start, len(result))\n",
      "/home/studio-lab-user/.conda/envs/mlnote/lib/python3.10/site-packages/sklearn/metrics/_classification.py:1318: UndefinedMetricWarning: Precision and F-score are ill-defined and being set to 0.0 in labels with no predicted samples. Use `zero_division` parameter to control this behavior.\n",
      "  _warn_prf(average, modifier, msg_start, len(result))\n"
     ]
    }
   ],
   "source": [
    "from sklearn.metrics import classification_report\n",
    "\n",
    "\n",
    "y_hat = None\n",
    "with torch.inference_mode():\n",
    "    y_proba = model_mlp(torch.from_numpy(X_test).type(dtype)).numpy()\n",
    "    y_hat = np.argmax(y_proba, axis=1)\n",
    "    y_max_proba = np.amax(y_proba, axis=1)\n",
    "\n",
    "print(classification_report(data[\"test_y\"], y_hat))"
   ]
  }
 ],
 "metadata": {
  "kernelspec": {
   "display_name": "mlnote:Python",
   "language": "python",
   "name": "conda-env-mlnote-py"
  },
  "language_info": {
   "codemirror_mode": {
    "name": "ipython",
    "version": 3
   },
   "file_extension": ".py",
   "mimetype": "text/x-python",
   "name": "python",
   "nbconvert_exporter": "python",
   "pygments_lexer": "ipython3",
   "version": "3.10.4"
  }
 },
 "nbformat": 4,
 "nbformat_minor": 5
}
