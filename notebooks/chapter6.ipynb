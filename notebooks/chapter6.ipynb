{
 "cells": [
  {
   "cell_type": "markdown",
   "id": "8c4fc2d9-53db-49c8-999e-c05fe7eb37f7",
   "metadata": {},
   "source": [
    "# 機械学習帳 確認問題(6.11)\n",
    "\n",
    "[機械学習帳の線形二値分類の確認問題(6.11)](https://chokkan.github.io/mlnote/classification/02multi.html#id16)を解きます。\n",
    "\n",
    "## 講義内容の復習\n",
    "\n",
    "![chapter6-1.svg](./images/chapter6/chapter6-1.svg)\n",
    "\n",
    "![chapter6-2.svg](./images/chapter6/chapter6-2.svg)\n",
    "\n",
    "![chapter6-3.svg](./images/chapter6/chapter6-3.svg)\n",
    "\n",
    "## 0. データ準備\n",
    "\n",
    "確認問題に使用するMNISTのデータを準備します。"
   ]
  },
  {
   "cell_type": "code",
   "execution_count": 1,
   "id": "ea63cdfd-a64c-4b83-ad6a-6b7e4ad09d17",
   "metadata": {},
   "outputs": [
    {
     "name": "stdout",
     "output_type": "stream",
     "text": [
      "Training data (X): (60000, 28, 28) float32\n",
      "Training data (Y): (60000,) uint8\n",
      "Test data (X): (10000, 28, 28) float32\n",
      "Test data (Y): (10000,) uint8\n"
     ]
    }
   ],
   "source": [
    "import gzip\n",
    "import sys\n",
    "import struct\n",
    "import urllib.request\n",
    "from pathlib import Path\n",
    "import numpy as np\n",
    "\n",
    "def read_image(fi):\n",
    "    magic, n, rows, columns = struct.unpack(\">IIII\", fi.read(16))\n",
    "    assert magic == 0x00000803\n",
    "    assert rows == 28\n",
    "    assert columns == 28\n",
    "    rawbuffer = fi.read()\n",
    "    assert len(rawbuffer) == n * rows * columns\n",
    "    rawdata = np.frombuffer(rawbuffer, dtype='>u1', count=n*rows*columns)\n",
    "    return rawdata.reshape(n, rows, columns).astype(np.float32) / 255.0\n",
    "\n",
    "def read_label(fi):\n",
    "    magic, n = struct.unpack(\">II\", fi.read(8))\n",
    "    assert magic == 0x00000801\n",
    "    rawbuffer = fi.read()\n",
    "    assert len(rawbuffer) == n\n",
    "    return np.frombuffer(rawbuffer, dtype='>u1', count=n)\n",
    "\n",
    "def openurl_gzip(url):\n",
    "    request = urllib.request.Request(\n",
    "        url,\n",
    "        headers={\n",
    "            \"Accept-Encoding\": \"gzip\",\n",
    "            \"User-Agent\": \"Mozilla/5.0 (X11; U; Linux i686) Gecko/20071127 Firefox/2.0.0.11\", \n",
    "        })\n",
    "    response = urllib.request.urlopen(request)\n",
    "    return gzip.GzipFile(fileobj=response, mode='rb')\n",
    "\n",
    "def save_mnist():\n",
    "    if Path(\"data/mnist.npz\").exists():\n",
    "        return\n",
    "    np.savez_compressed(\n",
    "        \"data/mnist\",\n",
    "        train_x=read_image(openurl_gzip(\"http://yann.lecun.com/exdb/mnist/train-images-idx3-ubyte.gz\")),\n",
    "        train_y=read_label(openurl_gzip(\"http://yann.lecun.com/exdb/mnist/train-labels-idx1-ubyte.gz\")),\n",
    "        test_x=read_image(openurl_gzip(\"http://yann.lecun.com/exdb/mnist/t10k-images-idx3-ubyte.gz\")),\n",
    "        test_y=read_label(openurl_gzip(\"http://yann.lecun.com/exdb/mnist/t10k-labels-idx1-ubyte.gz\"))\n",
    "    )\n",
    "\n",
    "save_mnist()\n",
    "data = np.load(\"data/mnist.npz\")\n",
    "print(\"Training data (X):\", data[\"train_x\"].shape, data[\"train_x\"].dtype)\n",
    "print(\"Training data (Y):\", data[\"train_y\"].shape, data[\"train_y\"].dtype)\n",
    "print(\"Test data (X):\", data[\"test_x\"].shape, data[\"test_x\"].dtype)\n",
    "print(\"Test data (Y):\", data[\"test_y\"].shape, data[\"test_y\"].dtype)"
   ]
  },
  {
   "cell_type": "markdown",
   "id": "198919f0-6552-4730-885f-be52cd2311cc",
   "metadata": {},
   "source": [
    "## 1. 確率的勾配降下法による多クラスロジスティック回帰モデルの学習\n",
    "\n",
    "確率的勾配降下法で多クラスロジスティック回帰モデルを学習するアルゴリズムを実装せよ。学習データと評価データはMNISTを用いよ。"
   ]
  },
  {
   "cell_type": "code",
   "execution_count": null,
   "id": "2acb6a1d-413d-4dd9-8549-1bbdb0dfce8f",
   "metadata": {},
   "outputs": [],
   "source": []
  },
  {
   "cell_type": "markdown",
   "id": "15d7a4cb-25a0-410f-a2d4-10bfd90f79f5",
   "metadata": {},
   "source": [
    "## 2. 評価データ上での正解率\n",
    "\n",
    "評価データ上で学習したモデルの正解率を測定せよ。"
   ]
  },
  {
   "cell_type": "code",
   "execution_count": null,
   "id": "ae306605-4ec9-4ed4-8e49-6fb53ea6f802",
   "metadata": {},
   "outputs": [],
   "source": []
  }
 ],
 "metadata": {
  "kernelspec": {
   "display_name": "mlnote:Python",
   "language": "python",
   "name": "conda-env-mlnote-py"
  },
  "language_info": {
   "codemirror_mode": {
    "name": "ipython",
    "version": 3
   },
   "file_extension": ".py",
   "mimetype": "text/x-python",
   "name": "python",
   "nbconvert_exporter": "python",
   "pygments_lexer": "ipython3",
   "version": "3.10.4"
  }
 },
 "nbformat": 4,
 "nbformat_minor": 5
}
