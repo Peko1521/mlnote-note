{
 "cells": [
  {
   "cell_type": "markdown",
   "id": "8c4fc2d9-53db-49c8-999e-c05fe7eb37f7",
   "metadata": {},
   "source": [
    "# 機械学習帳 サポートベクトルマシンの実装\n",
    "\n",
    "[機械学習帳のサポートベクトルマシンの「9.3. 線形SVMの学習例」と「9.5. カーネルSVMの学習例」](https://chokkan.github.io/mlnote/classification/05svm.html#svm)を確認するためのコードです。\n",
    "\n",
    "## 0.データの準備\n",
    "\n",
    "線形分離可能なデータを作成する。"
   ]
  },
  {
   "cell_type": "code",
   "execution_count": 1,
   "id": "ea63cdfd-a64c-4b83-ad6a-6b7e4ad09d17",
   "metadata": {},
   "outputs": [
    {
     "data": {
      "image/png": "[encoded data removed]",
      "text/plain": [
       "<Figure size 360x216 with 1 Axes>"
      ]
     },
     "metadata": {
      "needs_background": "light"
     },
     "output_type": "display_data"
    }
   ],
   "source": [
    "import pandas as pd\n",
    "import matplotlib.pyplot as plt\n",
    "from sklearn.datasets import make_blobs\n",
    "\n",
    "\n",
    "separatable_data = make_blobs(n_samples=50, centers=2, random_state=129, cluster_std=0.6)\n",
    "\n",
    "separatable_df = pd.DataFrame({\n",
    "                    \"x1\": separatable_data[0][:,0],\n",
    "                    \"x2\": separatable_data[0][:,1],\n",
    "                    \"y\": separatable_data[1]\n",
    "                 })\n",
    "separatable_df.y = separatable_df.y * 2 -1\n",
    "\n",
    "fig, ax = plt.subplots(figsize=(5, 3))\n",
    "for y, c in zip([-1, 1], [\"red\", \"blue\"]):\n",
    "    separatable_df[(separatable_df.y == y)].plot.scatter(x=\"x1\", y=\"x2\", color=c, ax=ax)"
   ]
  },
  {
   "cell_type": "markdown",
   "id": "ea021587-a708-4c07-9919-5259d4c2faf3",
   "metadata": {},
   "source": [
    "線形分離不可能なデータを作成する。"
   ]
  },
  {
   "cell_type": "code",
   "execution_count": 2,
   "id": "689f193c-02f1-407f-8d6b-6df0e7c6fa1d",
   "metadata": {},
   "outputs": [
    {
     "data": {
      "image/png": "[encoded data removed]",
      "text/plain": [
       "<Figure size 360x216 with 1 Axes>"
      ]
     },
     "metadata": {
      "needs_background": "light"
     },
     "output_type": "display_data"
    }
   ],
   "source": [
    "from sklearn.datasets import make_circles\n",
    "\n",
    "\n",
    "unseparatable_data = make_circles(n_samples=50, factor=0.1, noise=0.1)\n",
    "\n",
    "unseparatable_df = pd.DataFrame({\n",
    "                    \"x1\": unseparatable_data[0][:,0],\n",
    "                    \"x2\": unseparatable_data[0][:,1],\n",
    "                    \"y\": unseparatable_data[1]\n",
    "                 })\n",
    "\n",
    "unseparatable_df.y = unseparatable_df.y * 2 - 1\n",
    "fig, ax = plt.subplots(figsize=(5, 3))\n",
    "for y, c in zip([-1, 1], [\"red\", \"blue\"]):\n",
    "    unseparatable_df[(unseparatable_df.y == y)].plot.scatter(x=\"x1\", y=\"x2\", color=c, ax=ax)"
   ]
  },
  {
   "cell_type": "markdown",
   "id": "24e8604f-81c1-48bc-93c8-9bc7b7bfc7c6",
   "metadata": {},
   "source": [
    "## 線形SVMの実装\n",
    "\n",
    "scikit-learnによる実装では、`SVC`のクラスにカーネルの種類を指定することで簡単にモデルを作ることができる。"
   ]
  },
  {
   "cell_type": "code",
   "execution_count": 3,
   "id": "76a41e31-b881-456a-8078-ce19b8813478",
   "metadata": {},
   "outputs": [
    {
     "data": {
      "text/plain": [
       "SVC(kernel='linear')"
      ]
     },
     "execution_count": 3,
     "metadata": {},
     "output_type": "execute_result"
    }
   ],
   "source": [
    "from sklearn.svm import SVC\n",
    "\n",
    "linear = SVC(kernel=\"linear\")\n",
    "linear.fit(separatable_df[[\"x1\", \"x2\"]], separatable_df.y)"
   ]
  },
  {
   "cell_type": "markdown",
   "id": "8b61796e-5b63-4eb6-bbd6-a124590f2770",
   "metadata": {},
   "source": [
    "`linear.support_`でサポートベクトルとして使われた事例を確認する。"
   ]
  },
  {
   "cell_type": "code",
   "execution_count": 4,
   "id": "f38d9484-ccc1-4633-964a-90f2a9bc4248",
   "metadata": {},
   "outputs": [
    {
     "data": {
      "text/plain": [
       "array([ 4, 30, 40], dtype=int32)"
      ]
     },
     "execution_count": 4,
     "metadata": {},
     "output_type": "execute_result"
    }
   ],
   "source": [
    "linear.support_"
   ]
  },
  {
   "cell_type": "code",
   "execution_count": 5,
   "id": "ba644ca6-0011-4f12-9e87-329679f0a119",
   "metadata": {},
   "outputs": [
    {
     "data": {
      "text/html": [
       "<div>\n",
       "<style scoped>\n",
       "    .dataframe tbody tr th:only-of-type {\n",
       "        vertical-align: middle;\n",
       "    }\n",
       "\n",
       "    .dataframe tbody tr th {\n",
       "        vertical-align: top;\n",
       "    }\n",
       "\n",
       "    .dataframe thead th {\n",
       "        text-align: right;\n",
       "    }\n",
       "</style>\n",
       "<table border=\"1\" class=\"dataframe\">\n",
       "  <thead>\n",
       "    <tr style=\"text-align: right;\">\n",
       "      <th></th>\n",
       "      <th>x1</th>\n",
       "      <th>x2</th>\n",
       "      <th>y</th>\n",
       "    </tr>\n",
       "  </thead>\n",
       "  <tbody>\n",
       "    <tr>\n",
       "      <th>4</th>\n",
       "      <td>1.211843</td>\n",
       "      <td>-5.764191</td>\n",
       "      <td>-1</td>\n",
       "    </tr>\n",
       "    <tr>\n",
       "      <th>30</th>\n",
       "      <td>2.306781</td>\n",
       "      <td>-5.380518</td>\n",
       "      <td>-1</td>\n",
       "    </tr>\n",
       "    <tr>\n",
       "      <th>40</th>\n",
       "      <td>1.978696</td>\n",
       "      <td>-7.407928</td>\n",
       "      <td>1</td>\n",
       "    </tr>\n",
       "  </tbody>\n",
       "</table>\n",
       "</div>"
      ],
      "text/plain": [
       "          x1        x2  y\n",
       "4   1.211843 -5.764191 -1\n",
       "30  2.306781 -5.380518 -1\n",
       "40  1.978696 -7.407928  1"
      ]
     },
     "execution_count": 5,
     "metadata": {},
     "output_type": "execute_result"
    }
   ],
   "source": [
    "support_features = separatable_df.iloc[linear.support_]\n",
    "support_features"
   ]
  },
  {
   "cell_type": "markdown",
   "id": "b28fe833-502c-4436-a3b1-cd0977c15a10",
   "metadata": {},
   "source": [
    "サポートベクトルを描画する`draw_supports`関数を作成する。"
   ]
  },
  {
   "cell_type": "code",
   "execution_count": 6,
   "id": "07cdd513-5c49-4319-8e90-3ddd1d583652",
   "metadata": {},
   "outputs": [],
   "source": [
    "def draw_supports(model, data):\n",
    "    fig, ax = plt.subplots(figsize=(5, 3))\n",
    "    # plot support vector\n",
    "    for y, c in zip([-1, 1], [\"red\", \"blue\"]):\n",
    "        for m in (\"o\", \"*\"):\n",
    "            if m == \"o\":\n",
    "                _df = data[~data.index.isin(model.support_)]\n",
    "                s = 10\n",
    "            else:\n",
    "                _df = data.iloc[model.support_]\n",
    "                s = 100\n",
    "            _df = _df[_df.y == y]\n",
    "            _df.plot.scatter(x=\"x1\", y=\"x2\", color=c, ax=ax, marker=m, s=s)\n",
    "    \n",
    "    return ax"
   ]
  },
  {
   "cell_type": "markdown",
   "id": "164512df-957b-4752-959b-7a297c23f74a",
   "metadata": {},
   "source": [
    "線形の分離平面を描画する。$\\pmb{w}^*$は`linear.coef_`、$b^*$は` linear.intercept_`に格納されている。"
   ]
  },
  {
   "cell_type": "code",
   "execution_count": 7,
   "id": "f1590813-e98e-409f-857e-dfa405c3786c",
   "metadata": {},
   "outputs": [
    {
     "data": {
      "text/plain": [
       "<AxesSubplot:xlabel='x1', ylabel='x2'>"
      ]
     },
     "execution_count": 7,
     "metadata": {},
     "output_type": "execute_result"
    },
    {
     "data": {
      "image/png": "[encoded data removed]",
      "text/plain": [
       "<Figure size 360x216 with 1 Axes>"
      ]
     },
     "metadata": {
      "needs_background": "light"
     },
     "output_type": "display_data"
    }
   ],
   "source": [
    "ax = draw_supports(linear, separatable_df)\n",
    "\n",
    "# plot boundary\n",
    "x1_values = ax.get_xlim()\n",
    "x2_values = [-(linear.coef_[0][0] * x1 + linear.intercept_[0]) / linear.coef_[0][1] for x1 in x1_values]\n",
    "pd.Series(x2_values, index=x1_values).plot.line(ax=ax)"
   ]
  },
  {
   "cell_type": "markdown",
   "id": "e7ca6dee-43bf-445d-b85e-ee4f758c7a1e",
   "metadata": {},
   "source": [
    "双対問題の制約条件である、$\\sum_{i=1}^{N} \\alpha_i y_i = 0$が満たされているか確認する。"
   ]
  },
  {
   "cell_type": "code",
   "execution_count": 8,
   "id": "5b7b6b83-6421-4a41-b4bd-847324aec20c",
   "metadata": {},
   "outputs": [],
   "source": [
    "import numpy as np\n",
    "\n",
    "\n",
    "np.testing.assert_almost_equal(np.sum(linear.dual_coef_[0]), 0)"
   ]
  },
  {
   "cell_type": "markdown",
   "id": "d48d65c5-1df7-4668-bb4b-ad736bd215a9",
   "metadata": {},
   "source": [
    "重みである`model.coef_[0]`が$\\pmb{w}^* = \\sum_{i=1}^{N} \\alpha_i y_i \\pmb{x}_i$から計算されていることを確認する。"
   ]
  },
  {
   "cell_type": "code",
   "execution_count": 9,
   "id": "a2ac03e3-3eb0-4fbc-9bc1-658e2ceba568",
   "metadata": {},
   "outputs": [],
   "source": [
    "np.testing.assert_allclose(linear.coef_[0], linear.dual_coef_[0] @ support_features[[\"x1\", \"x2\"]].values)"
   ]
  },
  {
   "cell_type": "markdown",
   "id": "ab431421-bfa9-48ea-bbdb-b70b1eacda95",
   "metadata": {},
   "source": [
    "バイアスである`model.intercept_[0]`が$b^*= y_s -\\pmb{w}^* \\cdot \\pmb{x}_{s}$から計算されていることを確認する。"
   ]
  },
  {
   "cell_type": "code",
   "execution_count": 10,
   "id": "842dc1f6-e2f3-4db6-9624-e23c64e164bb",
   "metadata": {},
   "outputs": [],
   "source": [
    "np.testing.assert_almost_equal(\n",
    "    linear.intercept_[0],\n",
    "    np.min(support_features[\"y\"] - linear.coef_[0] @ support_features[[\"x1\", \"x2\"]].values.T),\n",
    "    decimal=3\n",
    ")"
   ]
  },
  {
   "cell_type": "markdown",
   "id": "14bd0624-4a54-4bdd-a654-8c0bf7f1396d",
   "metadata": {},
   "source": [
    "なお、線形分離不能なデータに対しては分離ができない。"
   ]
  },
  {
   "cell_type": "code",
   "execution_count": 11,
   "id": "d7e99768-9b15-46fd-b473-9bba9a5a59b3",
   "metadata": {},
   "outputs": [
    {
     "data": {
      "text/plain": [
       "<AxesSubplot:xlabel='x1', ylabel='x2'>"
      ]
     },
     "execution_count": 11,
     "metadata": {},
     "output_type": "execute_result"
    },
    {
     "data": {
      "image/png": "[encoded data removed]",
      "text/plain": [
       "<Figure size 360x216 with 1 Axes>"
      ]
     },
     "metadata": {
      "needs_background": "light"
     },
     "output_type": "display_data"
    }
   ],
   "source": [
    "linear_ = SVC(kernel=\"linear\")\n",
    "linear_.fit(unseparatable_df[[\"x1\", \"x2\"]], unseparatable_df.y)\n",
    "ax = draw_supports(linear_, unseparatable_df)\n",
    "x1_values = ax.get_xlim()\n",
    "x2_values = [-(linear.coef_[0][0] * x1 + linear.intercept_[0]) / linear.coef_[0][1] for x1 in x1_values]\n",
    "pd.Series(x2_values, index=x1_values).plot.line(ax=ax)"
   ]
  },
  {
   "cell_type": "markdown",
   "id": "5b5141c5-545d-4d0e-b609-ad945a20837e",
   "metadata": {},
   "source": [
    "## 非線形SVMの実装\n",
    "\n",
    "多項式のカーネル関数を実装する。"
   ]
  },
  {
   "cell_type": "code",
   "execution_count": 12,
   "id": "0ddd978f-74ca-42b6-abd3-99f93d7cd567",
   "metadata": {},
   "outputs": [
    {
     "data": {
      "text/plain": [
       "SVC(C=1000000.0, degree=2, kernel='poly')"
      ]
     },
     "execution_count": 12,
     "metadata": {},
     "output_type": "execute_result"
    }
   ],
   "source": [
    "poly = SVC(kernel=\"poly\", degree=2, C=1e6)\n",
    "poly.fit(unseparatable_df[[\"x1\", \"x2\"]], unseparatable_df.y)"
   ]
  },
  {
   "cell_type": "markdown",
   "id": "496c0fd9-61bf-4892-807f-1349c8fc64c8",
   "metadata": {},
   "source": [
    "サポートベクトルをプロットする。"
   ]
  },
  {
   "cell_type": "code",
   "execution_count": 13,
   "id": "837cc3b5-56d2-4906-a017-65e52cb709d0",
   "metadata": {},
   "outputs": [
    {
     "data": {
      "text/plain": [
       "<AxesSubplot:xlabel='x1', ylabel='x2'>"
      ]
     },
     "execution_count": 13,
     "metadata": {},
     "output_type": "execute_result"
    },
    {
     "data": {
      "image/png": "[encoded data removed]",
      "text/plain": [
       "<Figure size 360x216 with 1 Axes>"
      ]
     },
     "metadata": {
      "needs_background": "light"
     },
     "output_type": "display_data"
    }
   ],
   "source": [
    "draw_supports(poly, unseparatable_df)"
   ]
  },
  {
   "cell_type": "markdown",
   "id": "75755af0-2344-4708-9370-36734403f489",
   "metadata": {},
   "source": [
    "各事例に対し学習済みのモデルである`decision_function`がどのように判断しているのかを描画する。"
   ]
  },
  {
   "cell_type": "code",
   "execution_count": 14,
   "id": "fdb50395-d3ad-42c9-b6c6-7919587a08ee",
   "metadata": {},
   "outputs": [
    {
     "data": {
      "text/plain": [
       "<AxesSubplot:xlabel='x1', ylabel='x2'>"
      ]
     },
     "execution_count": 14,
     "metadata": {},
     "output_type": "execute_result"
    },
    {
     "data": {
      "image/png": "[encoded data removed]",
      "text/plain": [
       "<Figure size 432x288 with 2 Axes>"
      ]
     },
     "metadata": {
      "needs_background": "light"
     },
     "output_type": "display_data"
    }
   ],
   "source": [
    "pd.DataFrame({\n",
    "    \"x1\": unseparatable_df.x1,\n",
    "    \"x2\": unseparatable_df.x2,\n",
    "    \"prediction\": poly.decision_function(unseparatable_df[[\"x1\", \"x2\"]])\n",
    "}).plot.scatter(x=\"x1\", y=\"x2\", c=\"prediction\")"
   ]
  },
  {
   "cell_type": "markdown",
   "id": "53df5258-92b8-43b7-9340-294fa5b40c7e",
   "metadata": {},
   "source": [
    "なお、多項式の自由度(`degree`)を指定しないと大量のサポートベクトルが生まれる(過学習する?)。"
   ]
  },
  {
   "cell_type": "code",
   "execution_count": 15,
   "id": "6e332a17-4ef1-4d7b-b26c-86934f4999be",
   "metadata": {},
   "outputs": [
    {
     "data": {
      "text/plain": [
       "SVC(C=1000000.0, kernel='poly')"
      ]
     },
     "execution_count": 15,
     "metadata": {},
     "output_type": "execute_result"
    }
   ],
   "source": [
    "poly_ = SVC(kernel=\"poly\", C=1e6)\n",
    "poly_.fit(unseparatable_df[[\"x1\", \"x2\"]], unseparatable_df.y)"
   ]
  },
  {
   "cell_type": "code",
   "execution_count": 16,
   "id": "f191c5cc-a618-4360-aef8-e45fda907076",
   "metadata": {},
   "outputs": [
    {
     "data": {
      "text/plain": [
       "<AxesSubplot:xlabel='x1', ylabel='x2'>"
      ]
     },
     "execution_count": 16,
     "metadata": {},
     "output_type": "execute_result"
    },
    {
     "data": {
      "image/png": "[encoded data removed]",
      "text/plain": [
       "<Figure size 360x216 with 1 Axes>"
      ]
     },
     "metadata": {
      "needs_background": "light"
     },
     "output_type": "display_data"
    }
   ],
   "source": [
    "draw_supports(poly_, unseparatable_df)"
   ]
  },
  {
   "cell_type": "markdown",
   "id": "916a9f27-88e0-4103-bbc5-928ab599e364",
   "metadata": {},
   "source": [
    "RBFカーネルでも実装する。"
   ]
  },
  {
   "cell_type": "code",
   "execution_count": 17,
   "id": "0f06edfd-24da-4a7b-b8df-1afe5a8d60d4",
   "metadata": {},
   "outputs": [
    {
     "data": {
      "text/plain": [
       "SVC(C=1000000.0)"
      ]
     },
     "execution_count": 17,
     "metadata": {},
     "output_type": "execute_result"
    }
   ],
   "source": [
    "rbf = SVC(kernel=\"rbf\", C=1e6)\n",
    "rbf.fit(unseparatable_df[[\"x1\", \"x2\"]], unseparatable_df.y)"
   ]
  },
  {
   "cell_type": "code",
   "execution_count": 18,
   "id": "9b9f7478-abbc-4d4e-ba51-68d4e162d501",
   "metadata": {},
   "outputs": [
    {
     "data": {
      "text/plain": [
       "<AxesSubplot:xlabel='x1', ylabel='x2'>"
      ]
     },
     "execution_count": 18,
     "metadata": {},
     "output_type": "execute_result"
    },
    {
     "data": {
      "image/png": "[encoded data removed]",
      "text/plain": [
       "<Figure size 360x216 with 1 Axes>"
      ]
     },
     "metadata": {
      "needs_background": "light"
     },
     "output_type": "display_data"
    }
   ],
   "source": [
    "draw_supports(rbf, unseparatable_df)"
   ]
  },
  {
   "cell_type": "markdown",
   "id": "c2027ea5-1065-4fef-808a-9bc228593309",
   "metadata": {},
   "source": [
    "各事例に対し学習済みのモデルである`decision_function`がどのように判断しているのかを描画する。"
   ]
  },
  {
   "cell_type": "code",
   "execution_count": 19,
   "id": "c24dcf3b-564b-4b68-ba5e-9f3d06045c18",
   "metadata": {},
   "outputs": [
    {
     "data": {
      "text/plain": [
       "<AxesSubplot:xlabel='x1', ylabel='x2'>"
      ]
     },
     "execution_count": 19,
     "metadata": {},
     "output_type": "execute_result"
    },
    {
     "data": {
      "image/png": "[encoded data removed]",
      "text/plain": [
       "<Figure size 432x288 with 2 Axes>"
      ]
     },
     "metadata": {
      "needs_background": "light"
     },
     "output_type": "display_data"
    }
   ],
   "source": [
    "pd.DataFrame({\n",
    "    \"x1\": unseparatable_df.x1,\n",
    "    \"x2\": unseparatable_df.x2,\n",
    "    \"prediction\": rbf.decision_function(unseparatable_df[[\"x1\", \"x2\"]])\n",
    "}).plot.scatter(x=\"x1\", y=\"x2\", c=\"prediction\")"
   ]
  }
 ],
 "metadata": {
  "kernelspec": {
   "display_name": "mlnote:Python",
   "language": "python",
   "name": "conda-env-mlnote-py"
  },
  "language_info": {
   "codemirror_mode": {
    "name": "ipython",
    "version": 3
   },
   "file_extension": ".py",
   "mimetype": "text/x-python",
   "name": "python",
   "nbconvert_exporter": "python",
   "pygments_lexer": "ipython3",
   "version": "3.10.4"
  }
 },
 "nbformat": 4,
 "nbformat_minor": 5
}
