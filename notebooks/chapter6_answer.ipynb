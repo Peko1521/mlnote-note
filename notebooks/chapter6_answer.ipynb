{
 "cells": [
  {
   "cell_type": "markdown",
   "id": "8c4fc2d9-53db-49c8-999e-c05fe7eb37f7",
   "metadata": {},
   "source": [
    "# 機械学習帳 確認問題(6.11)\n",
    "\n",
    "[機械学習帳の線形二値分類の確認問題(6.11)](https://chokkan.github.io/mlnote/classification/02multi.html#id16)を解きます。\n",
    "\n",
    "## 講義内容の復習\n",
    "\n",
    "![chapter6-1.svg](./images/chapter6/chapter6-1.svg)\n",
    "\n",
    "![chapter6-2.svg](./images/chapter6/chapter6-2.svg)\n",
    "\n",
    "![chapter6-3.svg](./images/chapter6/chapter6-3.svg)\n",
    "\n",
    "## 0. データ準備\n",
    "\n",
    "確認問題に使用するMNISTのデータを準備します。"
   ]
  },
  {
   "cell_type": "code",
   "execution_count": 1,
   "id": "ea63cdfd-a64c-4b83-ad6a-6b7e4ad09d17",
   "metadata": {},
   "outputs": [
    {
     "name": "stdout",
     "output_type": "stream",
     "text": [
      "Training data (X): (60000, 28, 28) float32\n",
      "Training data (Y): (60000,) uint8\n",
      "Test data (X): (10000, 28, 28) float32\n",
      "Test data (Y): (10000,) uint8\n"
     ]
    }
   ],
   "source": [
    "import gzip\n",
    "import sys\n",
    "import struct\n",
    "import urllib.request\n",
    "from pathlib import Path\n",
    "import numpy as np\n",
    "\n",
    "def read_image(fi):\n",
    "    magic, n, rows, columns = struct.unpack(\">IIII\", fi.read(16))\n",
    "    assert magic == 0x00000803\n",
    "    assert rows == 28\n",
    "    assert columns == 28\n",
    "    rawbuffer = fi.read()\n",
    "    assert len(rawbuffer) == n * rows * columns\n",
    "    rawdata = np.frombuffer(rawbuffer, dtype='>u1', count=n*rows*columns)\n",
    "    return rawdata.reshape(n, rows, columns).astype(np.float32) / 255.0\n",
    "\n",
    "def read_label(fi):\n",
    "    magic, n = struct.unpack(\">II\", fi.read(8))\n",
    "    assert magic == 0x00000801\n",
    "    rawbuffer = fi.read()\n",
    "    assert len(rawbuffer) == n\n",
    "    return np.frombuffer(rawbuffer, dtype='>u1', count=n)\n",
    "\n",
    "def openurl_gzip(url):\n",
    "    request = urllib.request.Request(\n",
    "        url,\n",
    "        headers={\n",
    "            \"Accept-Encoding\": \"gzip\",\n",
    "            \"User-Agent\": \"Mozilla/5.0 (X11; U; Linux i686) Gecko/20071127 Firefox/2.0.0.11\", \n",
    "        })\n",
    "    response = urllib.request.urlopen(request)\n",
    "    return gzip.GzipFile(fileobj=response, mode='rb')\n",
    "\n",
    "def save_mnist():\n",
    "    if Path(\"data/mnist.npz\").exists():\n",
    "        return\n",
    "    np.savez_compressed(\n",
    "        \"data/mnist\",\n",
    "        train_x=read_image(openurl_gzip(\"http://yann.lecun.com/exdb/mnist/train-images-idx3-ubyte.gz\")),\n",
    "        train_y=read_label(openurl_gzip(\"http://yann.lecun.com/exdb/mnist/train-labels-idx1-ubyte.gz\")),\n",
    "        test_x=read_image(openurl_gzip(\"http://yann.lecun.com/exdb/mnist/t10k-images-idx3-ubyte.gz\")),\n",
    "        test_y=read_label(openurl_gzip(\"http://yann.lecun.com/exdb/mnist/t10k-labels-idx1-ubyte.gz\"))\n",
    "    )\n",
    "\n",
    "save_mnist()\n",
    "data = np.load(\"data/mnist.npz\")\n",
    "print(\"Training data (X):\", data[\"train_x\"].shape, data[\"train_x\"].dtype)\n",
    "print(\"Training data (Y):\", data[\"train_y\"].shape, data[\"train_y\"].dtype)\n",
    "print(\"Test data (X):\", data[\"test_x\"].shape, data[\"test_x\"].dtype)\n",
    "print(\"Test data (Y):\", data[\"test_y\"].shape, data[\"test_y\"].dtype)"
   ]
  },
  {
   "cell_type": "markdown",
   "id": "198919f0-6552-4730-885f-be52cd2311cc",
   "metadata": {},
   "source": [
    "## 1. 確率的勾配降下法による多クラスロジスティック回帰モデルの学習\n",
    "\n",
    "確率的勾配降下法で多クラスロジスティック回帰モデルを学習するアルゴリズムを実装せよ。学習データと評価データはMNISTを用いよ。"
   ]
  },
  {
   "cell_type": "code",
   "execution_count": 2,
   "id": "2acb6a1d-413d-4dd9-8549-1bbdb0dfce8f",
   "metadata": {},
   "outputs": [],
   "source": [
    "class LogisticClassifier():\n",
    "    \n",
    "    def __init__(self):\n",
    "        self.W = None\n",
    "\n",
    "    def softmax(self, a):\n",
    "        # refer 6.5.1\n",
    "        ea = np.exp(a - np.max(a))\n",
    "        return ea / np.sum(ea)\n",
    "\n",
    "    def train(self, X, Y, num_class, eta=1e-3, alpha=1e-6, epoch=100000, eps=1e-6):\n",
    "        N = X.shape[0]\n",
    "        self.W = np.random.uniform(size=(X.shape[-1], num_class))\n",
    "        for t in range(epoch):\n",
    "            i = np.random.choice(N)\n",
    "            hat_y = self.predict_proba(X[i])\n",
    "            # to one-hot vector\n",
    "            y = np.zeros(num_class)\n",
    "            y[Y[i]] = 1.0\n",
    "            delta = (y - hat_y) * X[i].reshape((-1, 1)) - 2 * alpha * self.W / N\n",
    "            if np.sum(np.abs(delta)) < eps:\n",
    "                break\n",
    "            self.W += eta * delta\n",
    "        return self\n",
    "\n",
    "    def predict_proba(self, x):\n",
    "        value = x @ self.W\n",
    "        if len(value.shape) < 2:\n",
    "            return self.softmax(value).flatten()\n",
    "        else:\n",
    "            return np.apply_along_axis(self.softmax, axis=1, arr=value)\n",
    "\n",
    "    def predict(self, x):\n",
    "        proba = self.predict_proba(x)\n",
    "        return np.argmax(proba, axis=1)"
   ]
  },
  {
   "cell_type": "markdown",
   "id": "b3fc3226-c269-45ad-9243-51be6e98aa27",
   "metadata": {},
   "source": [
    "softmax関数が実装できているかテストします。"
   ]
  },
  {
   "cell_type": "code",
   "execution_count": 3,
   "id": "4031fd15-3c6f-41b4-a2ef-9b2093001799",
   "metadata": {},
   "outputs": [],
   "source": [
    "# refer 6.9\n",
    "np.testing.assert_almost_equal(\n",
    "    1.0,\n",
    "    np.sum(LogisticClassifier().softmax(np.array([3, 2, -5])))\n",
    ")\n",
    "\n",
    "# refer 6.10\n",
    "assert np.all((LogisticClassifier().softmax(np.array([3, 2, -5])) > 0) == True)\n",
    "\n",
    "# refer 6.11\n",
    "np.testing.assert_almost_equal(\n",
    "    1.0 / (1 + np.exp(-(0.5 - 0.1))),\n",
    "    LogisticClassifier().softmax(np.array([0.5, 0.1]))[0]\n",
    ")"
   ]
  },
  {
   "cell_type": "markdown",
   "id": "b0544571-c8c1-4e99-ac4d-0c18d293b4e6",
   "metadata": {},
   "source": [
    "学習を行います。"
   ]
  },
  {
   "cell_type": "code",
   "execution_count": 4,
   "id": "94eb440c-4c03-46f7-8a03-4dc8686d81b5",
   "metadata": {},
   "outputs": [],
   "source": [
    "X_train = data[\"train_x\"]\n",
    "\n",
    "\n",
    "def to_feature(X):\n",
    "    return np.c_[X.reshape((X.shape[0], -1)), np.ones(X.shape[0])]\n",
    "\n",
    "\n",
    "X_train = to_feature(X_train)\n",
    "model = LogisticClassifier().train(X=X_train, Y=data[\"train_y\"], num_class=10)"
   ]
  },
  {
   "cell_type": "markdown",
   "id": "15d7a4cb-25a0-410f-a2d4-10bfd90f79f5",
   "metadata": {},
   "source": [
    "## 2. 評価データ上での正解率\n",
    "\n",
    "評価データ上で学習したモデルの正解率を測定せよ。"
   ]
  },
  {
   "cell_type": "code",
   "execution_count": 5,
   "id": "2ad7d7a6-39f6-4966-99e8-50cbf8429c99",
   "metadata": {},
   "outputs": [],
   "source": [
    "X_test = data[\"test_x\"]\n",
    "X_test = to_feature(X_test)"
   ]
  },
  {
   "cell_type": "code",
   "execution_count": 6,
   "id": "ae306605-4ec9-4ed4-8e49-6fb53ea6f802",
   "metadata": {},
   "outputs": [
    {
     "name": "stdout",
     "output_type": "stream",
     "text": [
      "              precision    recall  f1-score   support\n",
      "\n",
      "           0       0.93      0.96      0.95       980\n",
      "           1       0.95      0.96      0.96      1135\n",
      "           2       0.89      0.87      0.88      1032\n",
      "           3       0.88      0.86      0.87      1010\n",
      "           4       0.89      0.90      0.90       982\n",
      "           5       0.83      0.82      0.82       892\n",
      "           6       0.92      0.92      0.92       958\n",
      "           7       0.88      0.90      0.89      1028\n",
      "           8       0.84      0.82      0.83       974\n",
      "           9       0.86      0.85      0.86      1009\n",
      "\n",
      "    accuracy                           0.89     10000\n",
      "   macro avg       0.89      0.89      0.89     10000\n",
      "weighted avg       0.89      0.89      0.89     10000\n",
      "\n"
     ]
    }
   ],
   "source": [
    "from sklearn.metrics import classification_report\n",
    "\n",
    "\n",
    "predictions = model.predict(X_test)\n",
    "print(classification_report(data[\"test_y\"], predictions))"
   ]
  },
  {
   "cell_type": "markdown",
   "id": "5eb58cb7-4322-490b-9fad-42ac2b9e3ae0",
   "metadata": {},
   "source": [
    "正解率であるaccuracyは0.89となります。"
   ]
  },
  {
   "cell_type": "code",
   "execution_count": null,
   "id": "99b7fb1c-551b-4212-b9c9-5fc7a22231c9",
   "metadata": {},
   "outputs": [],
   "source": []
  }
 ],
 "metadata": {
  "kernelspec": {
   "display_name": "mlnote:Python",
   "language": "python",
   "name": "conda-env-mlnote-py"
  },
  "language_info": {
   "codemirror_mode": {
    "name": "ipython",
    "version": 3
   },
   "file_extension": ".py",
   "mimetype": "text/x-python",
   "name": "python",
   "nbconvert_exporter": "python",
   "pygments_lexer": "ipython3",
   "version": "3.10.4"
  }
 },
 "nbformat": 4,
 "nbformat_minor": 5
}
