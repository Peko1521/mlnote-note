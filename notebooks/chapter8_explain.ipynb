{
 "cells": [
  {
   "cell_type": "markdown",
   "id": "8c4fc2d9-53db-49c8-999e-c05fe7eb37f7",
   "metadata": {},
   "source": [
    "# 機械学習帳 ニューラルネットワークの実装\n",
    "\n",
    "[機械学習帳のニューラルネットワーク(2)の解説で使用するコードです](https://chokkan.github.io/mlnote/classification/04nntrain.html#nn)。\n",
    "\n",
    "## 0.データの準備"
   ]
  },
  {
   "cell_type": "code",
   "execution_count": 1,
   "id": "ea63cdfd-a64c-4b83-ad6a-6b7e4ad09d17",
   "metadata": {},
   "outputs": [
    {
     "data": {
      "image/png": "[encoded data removed]",
      "text/plain": [
       "<Figure size 360x216 with 1 Axes>"
      ]
     },
     "metadata": {
      "needs_background": "light"
     },
     "output_type": "display_data"
    }
   ],
   "source": [
    "import pandas as pd\n",
    "import matplotlib.pyplot as plt\n",
    "from sklearn.datasets import make_blobs\n",
    "\n",
    "\n",
    "data = make_blobs(n_samples=50, centers=2, random_state=129, cluster_std=0.6)\n",
    "\n",
    "df = pd.DataFrame({\"x1\": data[0][:,0], \"x2\": data[0][:,1], \"y\": data[1]})\n",
    "fig, ax = plt.subplots(figsize=(5, 3))\n",
    "for y, c in enumerate([\"red\", \"blue\"]):\n",
    "    df[(df.y == y)].plot.scatter(x=\"x1\", y=\"x2\", color=c, ax=ax)"
   ]
  },
  {
   "cell_type": "markdown",
   "id": "24e8604f-81c1-48bc-93c8-9bc7b7bfc7c6",
   "metadata": {},
   "source": [
    "## 1.原始的な実装"
   ]
  },
  {
   "cell_type": "code",
   "execution_count": 7,
   "id": "76a41e31-b881-456a-8078-ce19b8813478",
   "metadata": {},
   "outputs": [
    {
     "name": "stdout",
     "output_type": "stream",
     "text": [
      "torch.Size([50, 2])\n",
      "torch.Size([50, 1])\n"
     ]
    }
   ],
   "source": [
    "import torch\n",
    "\n",
    "\n",
    "dtype = torch.float\n",
    "X = torch.from_numpy(data[0]).type(dtype)\n",
    "Y = torch.from_numpy(data[1].reshape((-1, 1))).type(dtype)\n",
    "print(X.shape)\n",
    "print(Y.shape)"
   ]
  },
  {
   "cell_type": "code",
   "execution_count": 8,
   "id": "ba644ca6-0011-4f12-9e87-329679f0a119",
   "metadata": {},
   "outputs": [],
   "source": [
    "from sklearn.model_selection import train_test_split\n",
    "from torch.utils.data import TensorDataset, DataLoader\n",
    "from sklearn.metrics import classification_report\n",
    "\n",
    "\n",
    "train_x, test_x, train_y, test_y = train_test_split(X, Y, test_size=0.3, random_state=42)\n",
    "train_dataset = TensorDataset(train_x, train_y)\n",
    "loader = DataLoader(train_dataset, batch_size=4, shuffle=True)"
   ]
  },
  {
   "cell_type": "code",
   "execution_count": 9,
   "id": "5b7b6b83-6421-4a41-b4bd-847324aec20c",
   "metadata": {},
   "outputs": [
    {
     "name": "stdout",
     "output_type": "stream",
     "text": [
      "              precision    recall  f1-score   support\n",
      "\n",
      "         0.0       1.00      1.00      1.00        10\n",
      "         1.0       1.00      1.00      1.00         5\n",
      "\n",
      "    accuracy                           1.00        15\n",
      "   macro avg       1.00      1.00      1.00        15\n",
      "weighted avg       1.00      1.00      1.00        15\n",
      "\n"
     ]
    },
    {
     "data": {
      "image/png": "[encoded data removed]",
      "text/plain": [
       "<Figure size 432x288 with 1 Axes>"
      ]
     },
     "metadata": {
      "needs_background": "light"
     },
     "output_type": "display_data"
    }
   ],
   "source": [
    "model = {\n",
    "    \"w\": torch.randn((X.shape[1], 1), dtype=dtype, requires_grad=True),\n",
    "    \"b\": torch.randn(1, dtype=dtype, requires_grad=True)\n",
    "}\n",
    "\n",
    "def forward(model, X):\n",
    "    return (X @ model[\"w\"] + model[\"b\"]).sigmoid()\n",
    "\n",
    "hyper_parameters = {\n",
    "    \"epoch\": 1000,\n",
    "    \"eta\": 1e-2\n",
    "}\n",
    "\n",
    "history = []\n",
    "for t in range(hyper_parameters[\"epoch\"]):\n",
    "    loss_in_epoch = .0\n",
    "    for x, y in loader:\n",
    "        y_hat = forward(model, x)\n",
    "        loss = - (y * y_hat + (1 - y) * (1 - y_hat)).log().sum()\n",
    "        loss_in_epoch += loss.item()\n",
    "\n",
    "        loss.backward()\n",
    "        with torch.no_grad():\n",
    "            model[\"w\"] -= hyper_parameters[\"eta\"] * model[\"w\"].grad\n",
    "            model[\"b\"] -= hyper_parameters[\"eta\"] * model[\"b\"].grad\n",
    "            model[\"w\"].grad.zero_()\n",
    "            model[\"b\"].grad.zero_()\n",
    "\n",
    "    history.append(loss_in_epoch)\n",
    "\n",
    "pd.Series(history).plot.line(title=\"loss\")\n",
    "with torch.inference_mode():\n",
    "    # Do not compute the gradient in inference_mode\n",
    "    print(classification_report(test_y, (forward(model, test_x).numpy() > 0.5)))"
   ]
  }
 ],
 "metadata": {
  "kernelspec": {
   "display_name": "mlnote:Python",
   "language": "python",
   "name": "conda-env-mlnote-py"
  },
  "language_info": {
   "codemirror_mode": {
    "name": "ipython",
    "version": 3
   },
   "file_extension": ".py",
   "mimetype": "text/x-python",
   "name": "python",
   "nbconvert_exporter": "python",
   "pygments_lexer": "ipython3",
   "version": "3.10.4"
  }
 },
 "nbformat": 4,
 "nbformat_minor": 5
}
