{
 "cells": [
  {
   "cell_type": "markdown",
   "id": "8c4fc2d9-53db-49c8-999e-c05fe7eb37f7",
   "metadata": {},
   "source": [
    "# 機械学習帳 確認問題(5.10)\n",
    "\n",
    "[機械学習帳の線形二値分類の確認問題(5.10)](https://chokkan.github.io/mlnote/classification/01binary.html#id19)を解きます。\n",
    "\n",
    "## 講義内容の復習\n",
    "\n",
    "![chapter5-1.svg](./images/chapter5/chapter5-1.svg)\n",
    "\n",
    "![chapter5-2.svg](./images/chapter5/chapter5-2.svg)\n",
    "\n",
    "![chapter5-3.svg](./images/chapter5/chapter5-3.svg)\n",
    "\n",
    "## 1. 確率的勾配降下法によるロジスティック回帰モデルの学習\n",
    "\n",
    "### 1.1 モデルの作成\n",
    "\n",
    "ロジスティック回帰モデルのクラスを作成します。入力がベクトル化されていることを前提とし、出力値は数値とします。\n"
   ]
  },
  {
   "cell_type": "code",
   "execution_count": 1,
   "id": "ea63cdfd-a64c-4b83-ad6a-6b7e4ad09d17",
   "metadata": {},
   "outputs": [],
   "source": [
    "import numpy as np\n",
    "\n",
    "\n",
    "class LogisticClassifier():\n",
    "    \n",
    "    def __init__(self):\n",
    "        self.w = None\n",
    "    \n",
    "    def sigmoid(self, a):\n",
    "        return 1 / (1 + np.exp(-a))\n",
    "    \n",
    "    def train(self, X, Y, eta=1.0, alpha=1e-6, epoch=40000, eps=1e-6):\n",
    "        N = X.shape[0]\n",
    "        self.w = np.random.uniform(size=(X.shape[-1], 1))\n",
    "        for t in range(epoch):\n",
    "            i = np.random.choice(N)\n",
    "            delta = (Y[i] - self.predict_proba(X[i])) * X[i]\n",
    "            delta = delta.reshape((-1, 1)) - 2 * alpha * self.w / N\n",
    "            if np.sum(np.abs(delta)) < eps:\n",
    "                break\n",
    "            self.w += eta * delta\n",
    "        return self\n",
    "    \n",
    "    def predict_proba(self, X):\n",
    "        y = self.sigmoid(X @ self.w)\n",
    "        return y.flatten()\n",
    "\n",
    "    def predict(self, X, threshold=0.5):\n",
    "        return (self.predict_proba(X) >= threshold).astype(int)"
   ]
  },
  {
   "cell_type": "markdown",
   "id": "593446ff-0fd2-4a2b-9181-4a78b67a4f60",
   "metadata": {},
   "source": [
    "シグモイド関数を描画し、実装できていることを確認します。"
   ]
  },
  {
   "cell_type": "code",
   "execution_count": 2,
   "id": "51b4c7e6-81c7-421a-96cb-8a4e9df0cf3f",
   "metadata": {},
   "outputs": [
    {
     "data": {
      "text/plain": [
       "<AxesSubplot:xlabel='x'>"
      ]
     },
     "execution_count": 2,
     "metadata": {},
     "output_type": "execute_result"
    },
    {
     "data": {
      "image/png": "[encoded data removed]",
      "text/plain": [
       "<Figure size 432x288 with 1 Axes>"
      ]
     },
     "metadata": {
      "needs_background": "light"
     },
     "output_type": "display_data"
    }
   ],
   "source": [
    "import pandas as pd\n",
    "\n",
    "\n",
    "pd.DataFrame({\n",
    "    \"x\": np.arange(-10, 10, 0.1),\n",
    "    \"y\": LogisticClassifier().sigmoid(np.arange(-10, 10, 0.1))\n",
    "}).plot.line(x=\"x\", y=\"y\")"
   ]
  },
  {
   "cell_type": "markdown",
   "id": "60397cbe-e0d4-4755-bebb-26b239bdbaf8",
   "metadata": {},
   "source": [
    "学習が可能なことを確認します。"
   ]
  },
  {
   "cell_type": "code",
   "execution_count": 3,
   "id": "0efa4c5f-2b4c-4fc6-ac77-68cefc3bcdb5",
   "metadata": {
    "tags": []
   },
   "outputs": [],
   "source": [
    "def test_train():\n",
    "    X = np.array([[1.0, 0.0, 0.0], [0.0, 0.1, 0.0], [1.0, 0.0, 0.0]])\n",
    "    y = np.array([1, 0, 1])\n",
    "    model = LogisticClassifier().train(X, y, eps=0)\n",
    "    np.testing.assert_allclose(y, model.predict_proba(X), atol=0.01)\n",
    "\n",
    "test_train()"
   ]
  },
  {
   "cell_type": "markdown",
   "id": "f11de62d-dfcf-4e43-b5a6-931401396a05",
   "metadata": {},
   "source": [
    "### 1.2 データの作成\n",
    "\n",
    "データを読み込み、ベクトル化するクラスを作成します。"
   ]
  },
  {
   "cell_type": "code",
   "execution_count": 4,
   "id": "ad4330d4-77c6-4ffb-8ee5-aad94cbb6783",
   "metadata": {},
   "outputs": [],
   "source": [
    "from collections import Counter\n",
    "from sklearn.preprocessing import LabelEncoder\n",
    "from sklearn.feature_extraction import DictVectorizer\n",
    "\n",
    "\n",
    "class Converter():\n",
    "    \n",
    "    def __init__(self):\n",
    "        self.vectorizer = None\n",
    "        self.encoder = None\n",
    "\n",
    "    def tokenize(self, text):\n",
    "        return [s.rstrip('.') for s in text.split(' ')]\n",
    "\n",
    "    def to_dict(self, tokens):\n",
    "        return Counter(tokens)\n",
    "\n",
    "    def read_file(self, file_name):\n",
    "        dataset = []\n",
    "        with open(file_name) as f:\n",
    "            for line in f.readlines():\n",
    "                fields = line.strip('\\n').split('\\t')\n",
    "                y = fields[0]\n",
    "                x = self.to_dict(self.tokenize(fields[1]))\n",
    "                dataset.append((x, y))\n",
    "        return dataset\n",
    "    \n",
    "    def fit_transform(self, dataset):\n",
    "        self.vectorizer = DictVectorizer()\n",
    "        self.encoder = LabelEncoder()\n",
    "        X = self.vectorizer.fit_transform([d[0] for d in dataset])\n",
    "        y = self.encoder.fit_transform([d[1] for d in dataset])\n",
    "        return X, y\n",
    "    \n",
    "    def transform(self, dataset):\n",
    "        X = self.vectorizer.transform([d[0] for d in dataset])\n",
    "        y = self.encoder.transform([d[1] for d in dataset])\n",
    "        return X, y        "
   ]
  },
  {
   "cell_type": "markdown",
   "id": "804ea681-ebf9-44b7-af97-1ce7a48081e9",
   "metadata": {},
   "source": [
    "データを取得します。[5.9. スパムフィルタの構築](https://chokkan.github.io/mlnote/classification/01binary.html#id12)と同じものを使用します。"
   ]
  },
  {
   "cell_type": "code",
   "execution_count": 5,
   "id": "212a063d-5290-46b7-8c91-bc17040b0ccc",
   "metadata": {},
   "outputs": [
    {
     "name": "stdout",
     "output_type": "stream",
     "text": [
      "wget: invalid option -- 'f'\n",
      "Usage: wget [OPTION]... [URL]...\n",
      "\n",
      "Try `wget --help' for more options.\n"
     ]
    }
   ],
   "source": [
    "!wget https://archive.ics.uci.edu/ml/machine-learning-databases/00228/smsspamcollection.zip -f -P data/"
   ]
  },
  {
   "cell_type": "code",
   "execution_count": 6,
   "id": "3fbd49e9-7cc9-4ae4-a130-dbf96fdcce71",
   "metadata": {},
   "outputs": [
    {
     "name": "stdout",
     "output_type": "stream",
     "text": [
      "Archive:  data/smsspamcollection.zip\n",
      "caution: filename not matched:  -f\n"
     ]
    }
   ],
   "source": [
    "!unzip data/smsspamcollection.zip -f -d data/"
   ]
  },
  {
   "cell_type": "code",
   "execution_count": 7,
   "id": "2fd1c4bf-4072-4b0d-affb-82547ac9aafa",
   "metadata": {},
   "outputs": [
    {
     "name": "stdout",
     "output_type": "stream",
     "text": [
      "ham\tGo until jurong point, crazy.. Available only in bugis n great world la e buffet... Cine there got amore wat...\n",
      "ham\tOk lar... Joking wif u oni...\n",
      "spam\tFree entry in 2 a wkly comp to win FA Cup final tkts 21st May 2005. Text FA to 87121 to receive entry question(std txt rate)T&C's apply 08452810075over18's\n",
      "ham\tU dun say so early hor... U c already then say...\n",
      "ham\tNah I don't think he goes to usf, he lives around here though\n",
      "spam\tFreeMsg Hey there darling it's been 3 week's now and no word back! I'd like some fun you up for it still? Tb ok! XxX std chgs to send, £1.50 to rcv\n",
      "ham\tEven my brother is not like to speak with me. They treat me like aids patent.\n",
      "ham\tAs per your request 'Melle Melle (Oru Minnaminunginte Nurungu Vettam)' has been set as your callertune for all Callers. Press *9 to copy your friends Callertune\n",
      "spam\tWINNER!! As a valued network customer you have been selected to receivea £900 prize reward! To claim call 09061701461. Claim code KL341. Valid 12 hours only.\n",
      "spam\tHad your mobile 11 months or more? U R entitled to Update to the latest colour mobiles with camera for Free! Call The Mobile Update Co FREE on 08002986030\n"
     ]
    }
   ],
   "source": [
    "!head data/SMSSpamCollection"
   ]
  },
  {
   "cell_type": "markdown",
   "id": "bb28d94d-d601-4fb3-8081-bfe676e86cd4",
   "metadata": {},
   "source": [
    "データの中を参照してみます。"
   ]
  },
  {
   "cell_type": "code",
   "execution_count": 8,
   "id": "47727987-8e9d-4cd6-88aa-e7162b2c7cd7",
   "metadata": {},
   "outputs": [
    {
     "data": {
      "text/plain": [
       "(Counter({\"I'm\": 1,\n",
       "          'gonna': 1,\n",
       "          'be': 1,\n",
       "          'home': 1,\n",
       "          'soon': 1,\n",
       "          'and': 1,\n",
       "          'i': 1,\n",
       "          \"don't\": 1,\n",
       "          'want': 1,\n",
       "          'to': 1,\n",
       "          'talk': 1,\n",
       "          'about': 1,\n",
       "          'this': 1,\n",
       "          'stuff': 1,\n",
       "          'anymore': 1,\n",
       "          'tonight,': 1,\n",
       "          'k?': 1,\n",
       "          \"I've\": 1,\n",
       "          'cried': 1,\n",
       "          'enough': 1,\n",
       "          'today': 1}),\n",
       " 'ham')"
      ]
     },
     "execution_count": 8,
     "metadata": {},
     "output_type": "execute_result"
    }
   ],
   "source": [
    "converter = Converter()\n",
    "dataset = converter.read_file(\"data/SMSSpamCollection\")\n",
    "dataset[10]"
   ]
  },
  {
   "cell_type": "markdown",
   "id": "060086d1-3d19-4be1-aa13-8aa04be8c617",
   "metadata": {},
   "source": [
    "テストデータと評価データに分離します。"
   ]
  },
  {
   "cell_type": "code",
   "execution_count": 9,
   "id": "4ea29808-2985-4ee8-b2fe-6199edef6047",
   "metadata": {},
   "outputs": [
    {
     "data": {
      "text/plain": [
       "(5016, 558)"
      ]
     },
     "execution_count": 9,
     "metadata": {},
     "output_type": "execute_result"
    }
   ],
   "source": [
    "from sklearn.model_selection import train_test_split\n",
    "\n",
    "\n",
    "train_data, test_data = train_test_split(dataset, test_size=0.1, random_state=0)\n",
    "len(train_data), len(test_data)"
   ]
  },
  {
   "cell_type": "markdown",
   "id": "1c4eabbc-a4e2-4f0d-823c-0795eb72a5bb",
   "metadata": {},
   "source": [
    "学習データをベクトル化します"
   ]
  },
  {
   "cell_type": "code",
   "execution_count": 10,
   "id": "7d6e8429-961f-48c8-8f6e-6148db191dac",
   "metadata": {},
   "outputs": [],
   "source": [
    "X, y = converter.fit_transform(train_data)"
   ]
  },
  {
   "cell_type": "code",
   "execution_count": 11,
   "id": "45a243a0-883a-4258-9c8b-191f95886612",
   "metadata": {},
   "outputs": [
    {
     "data": {
      "text/plain": [
       "(5016, 13205)"
      ]
     },
     "execution_count": 11,
     "metadata": {},
     "output_type": "execute_result"
    }
   ],
   "source": [
    "X.shape"
   ]
  },
  {
   "cell_type": "code",
   "execution_count": 12,
   "id": "72042daa-8f63-4ca0-b96d-c291104dec60",
   "metadata": {},
   "outputs": [
    {
     "data": {
      "text/plain": [
       "(5016,)"
      ]
     },
     "execution_count": 12,
     "metadata": {},
     "output_type": "execute_result"
    }
   ],
   "source": [
    "y.shape"
   ]
  },
  {
   "cell_type": "markdown",
   "id": "1398576b-78ea-4a11-a58c-62b23ffcb71b",
   "metadata": {},
   "source": [
    "学習を実行します。"
   ]
  },
  {
   "cell_type": "code",
   "execution_count": 13,
   "id": "7b91a612-b936-433d-8173-3adee63ff827",
   "metadata": {},
   "outputs": [],
   "source": [
    "model = LogisticClassifier().train(X, y, eta=1.0, alpha=1e-6, epoch=100000, eps=1e-6)"
   ]
  },
  {
   "cell_type": "markdown",
   "id": "15d7a4cb-25a0-410f-a2d4-10bfd90f79f5",
   "metadata": {},
   "source": [
    "## 2. 評価データ上での正解率\n",
    "\n",
    "評価データを使い、学習したモデルを評価します。"
   ]
  },
  {
   "cell_type": "code",
   "execution_count": 14,
   "id": "56ae4475-f6be-4747-9b9c-91e6472db721",
   "metadata": {},
   "outputs": [],
   "source": [
    "X_test, y_test = converter.transform(test_data)"
   ]
  },
  {
   "cell_type": "code",
   "execution_count": 15,
   "id": "51acbea1-13e5-4839-ab52-aaf40287a25e",
   "metadata": {},
   "outputs": [
    {
     "name": "stdout",
     "output_type": "stream",
     "text": [
      "              precision    recall  f1-score   support\n",
      "\n",
      "           0       0.98      0.98      0.98       469\n",
      "           1       0.90      0.88      0.89        89\n",
      "\n",
      "    accuracy                           0.96       558\n",
      "   macro avg       0.94      0.93      0.93       558\n",
      "weighted avg       0.96      0.96      0.96       558\n",
      "\n"
     ]
    }
   ],
   "source": [
    "from sklearn.metrics import classification_report\n",
    "\n",
    "\n",
    "print(classification_report(y_test, model.predict(X_test)))"
   ]
  },
  {
   "cell_type": "markdown",
   "id": "16099a49-56ed-4d5d-841c-96e15559873b",
   "metadata": {},
   "source": [
    "正解率、`accuracy`は0.96となりました。学習できていることがわかります。"
   ]
  },
  {
   "cell_type": "markdown",
   "id": "21df90d2-7955-4675-bcc3-15d7bd1624da",
   "metadata": {},
   "source": [
    "## 3. 学習で求めたパラメータ"
   ]
  },
  {
   "cell_type": "code",
   "execution_count": 16,
   "id": "e419d4eb-b296-4024-a433-b1b37f5e6975",
   "metadata": {},
   "outputs": [],
   "source": [
    "weight = pd.Series(model.w.flatten(), index=converter.vectorizer.feature_names_)"
   ]
  },
  {
   "cell_type": "markdown",
   "id": "9a0e009d-5904-4005-b9c4-2b921e2081e4",
   "metadata": {},
   "source": [
    "重みの絶対値が大きいものトップ20を表示します。"
   ]
  },
  {
   "cell_type": "code",
   "execution_count": 17,
   "id": "1da1f5a4-a282-4046-a720-3ed97758cad8",
   "metadata": {},
   "outputs": [
    {
     "data": {
      "text/plain": [
       "let's          7.011402\n",
       "Txt            6.815124\n",
       "won            6.270492\n",
       "FREE           6.203087\n",
       "txt            6.159097\n",
       "Luv            6.015718\n",
       "claim          5.866501\n",
       "service        5.611788\n",
       "07090201529    5.553809\n",
       "Call           5.505962\n",
       "Ltd            5.358055\n",
       "Reply          5.114874\n",
       "STOP           5.099550\n",
       "&              5.082633\n",
       "link           5.015280\n",
       "UK             5.010225\n",
       "mobile         4.887414\n",
       "adult          4.606951\n",
       "content        4.523106\n",
       "£1.50          4.408982\n",
       "dtype: float64"
      ]
     },
     "execution_count": 17,
     "metadata": {},
     "output_type": "execute_result"
    }
   ],
   "source": [
    "weight.nlargest(20)"
   ]
  },
  {
   "cell_type": "markdown",
   "id": "376e1742-bc29-4ee1-8195-0dc27726ee1b",
   "metadata": {},
   "source": [
    "重みが負のものトップ20を表示します。"
   ]
  },
  {
   "cell_type": "code",
   "execution_count": 18,
   "id": "22c2b9d3-c5e9-4c86-8e6c-d2ec2c2ff403",
   "metadata": {},
   "outputs": [
    {
     "data": {
      "text/plain": [
       "Ok      -6.399188\n",
       "me      -5.345491\n",
       "No      -5.110769\n",
       "Its     -5.099795\n",
       "he      -5.085205\n",
       "Then    -5.079515\n",
       "So      -4.853333\n",
       "Yup     -4.835432\n",
       "i       -4.769867\n",
       ":)      -4.753548\n",
       "Okie    -4.742343\n",
       "Happy   -4.690192\n",
       "later   -4.688453\n",
       "I       -4.684401\n",
       "that    -4.576131\n",
       "What    -4.530021\n",
       "still   -4.444850\n",
       "in      -4.372353\n",
       "–       -4.342440\n",
       "ü       -4.340403\n",
       "dtype: float64"
      ]
     },
     "execution_count": 18,
     "metadata": {},
     "output_type": "execute_result"
    }
   ],
   "source": [
    "weight.nsmallest(20)"
   ]
  },
  {
   "cell_type": "code",
   "execution_count": null,
   "id": "2d87e14b-5d35-4cef-8b90-4c6539d70566",
   "metadata": {},
   "outputs": [],
   "source": []
  }
 ],
 "metadata": {
  "kernelspec": {
   "display_name": "mlnote:Python",
   "language": "python",
   "name": "conda-env-mlnote-py"
  },
  "language_info": {
   "codemirror_mode": {
    "name": "ipython",
    "version": 3
   },
   "file_extension": ".py",
   "mimetype": "text/x-python",
   "name": "python",
   "nbconvert_exporter": "python",
   "pygments_lexer": "ipython3",
   "version": "3.10.4"
  }
 },
 "nbformat": 4,
 "nbformat_minor": 5
}
