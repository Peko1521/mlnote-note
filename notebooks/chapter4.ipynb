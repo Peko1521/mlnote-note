{
 "cells": [
  {
   "cell_type": "markdown",
   "id": "17b16d0f-f844-472c-9137-9de2547d9a05",
   "metadata": {},
   "source": [
    "# 機械学習帳 確認問題(4.9)\n",
    "\n",
    "[機械学習帳のモデル選択と正則化の確認問題(3.4)](https://chokkan.github.io/mlnote/regression/03regularization.html#id4)を解きます。\n",
    "\n",
    "## 講義内容の復習\n",
    "\n",
    "![chapter4-1.svg](./images/chapter4/chapter4-1.svg)\n",
    "\n",
    "![chapter4-2.svg](./images/chapter4/chapter4-2.svg)\n",
    "\n",
    "## 1. リッジ回帰モデルを学習する反復式の導出\n",
    "\n",
    "確率的勾配降下法でリッジ回帰モデルを学習したい。確率的勾配降下法の反復式を導出せよ。"
   ]
  },
  {
   "cell_type": "code",
   "execution_count": null,
   "id": "321241ef-7a42-49b4-869f-6f287a19a293",
   "metadata": {},
   "outputs": [],
   "source": []
  },
  {
   "cell_type": "markdown",
   "id": "19fa9044-aa47-480a-ae51-d75297687f79",
   "metadata": {},
   "source": [
    "## 2. $L_2$正則化を反復式から解釈する\n",
    "\n",
    "リッジ回帰では、学習中にパラメータベクトルの$L_2$ノルムが大きくなりすぎないように制御する。(1)で導出した反復式から、パラメータベクトルが大きくなりすぎるのを防ぐメカニズムを説明せよ。"
   ]
  },
  {
   "cell_type": "code",
   "execution_count": null,
   "id": "5b47ae05-9485-4b7b-890f-bb5b42bd44a1",
   "metadata": {},
   "outputs": [],
   "source": []
  },
  {
   "cell_type": "markdown",
   "id": "be2495f2-6043-4f94-b1cd-eaf7c5b16d2b",
   "metadata": {},
   "source": [
    "## (3) リッジ回帰の実装\n",
    "\n",
    "確率的勾配降下法でリッジ回帰のパラメータを推定するアルゴリズムを実装し、以下のデータに対して多項式近似の曲線を求めよ。ただし、便利なモジュール等は使わずに、この資料で説明した式・アルゴリズムをプログラムとして表現すること。多項式近似の次数やリッジ回帰の係数$\\alpha$などのハイパーパラメータは適当に設定せよ。"
   ]
  },
  {
   "cell_type": "code",
   "execution_count": 1,
   "id": "574131df-1f60-44f9-a3d3-cf61028b13e2",
   "metadata": {},
   "outputs": [],
   "source": [
    "import numpy as np\n",
    "\n",
    "\n",
    "X = np.array([ 0.  ,  0.16,  0.22,  0.34,  0.44,  0.5 ,  0.67,  0.73,  0.9 ,  1.  ])\n",
    "Y = np.array([-0.06,  0.94,  0.97,  0.85,  0.25,  0.09, -0.9 , -0.93, -0.53,  0.08])"
   ]
  },
  {
   "cell_type": "code",
   "execution_count": null,
   "id": "4b8c4884-8afc-4e71-b640-8858a6afda65",
   "metadata": {},
   "outputs": [],
   "source": []
  }
 ],
 "metadata": {
  "kernelspec": {
   "display_name": "mlnote:Python",
   "language": "python",
   "name": "conda-env-mlnote-py"
  },
  "language_info": {
   "codemirror_mode": {
    "name": "ipython",
    "version": 3
   },
   "file_extension": ".py",
   "mimetype": "text/x-python",
   "name": "python",
   "nbconvert_exporter": "python",
   "pygments_lexer": "ipython3",
   "version": "3.10.4"
  }
 },
 "nbformat": 4,
 "nbformat_minor": 5
}
