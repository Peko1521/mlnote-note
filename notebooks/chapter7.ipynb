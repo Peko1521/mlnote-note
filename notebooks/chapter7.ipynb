{
 "cells": [
  {
   "cell_type": "markdown",
   "id": "8c4fc2d9-53db-49c8-999e-c05fe7eb37f7",
   "metadata": {},
   "source": [
    "# 機械学習帳 確認問題(7.4)\n",
    "\n",
    "[機械学習帳のニューラルネットワーク(1)の確認問題(7.4)](https://chokkan.github.io/mlnote/classification/03nn.html#id21)を解きます。\n",
    "\n",
    "## 講義内容の復習\n",
    "\n",
    "![chapter7-1.svg](./images/chapter7/chapter7-1.svg)\n",
    "\n",
    "![chapter7-2.svg](./images/chapter7/chapter7-2.svg)\n",
    "\n",
    "## 0. 関数準備\n",
    "\n",
    "確認問題に使用する関数を準備します。"
   ]
  },
  {
   "cell_type": "code",
   "execution_count": 1,
   "id": "ea63cdfd-a64c-4b83-ad6a-6b7e4ad09d17",
   "metadata": {},
   "outputs": [],
   "source": [
    "def G(x):\n",
    "    if -5 <= x < 4:\n",
    "        i = int(x + 5)\n",
    "        return [-1, 0, 1, 0, -1, 1, 0, 1, -1][i]\n",
    "    else:\n",
    "        return 0"
   ]
  },
  {
   "cell_type": "markdown",
   "id": "24e8604f-81c1-48bc-93c8-9bc7b7bfc7c6",
   "metadata": {},
   "source": [
    "[np.vectorize](https://numpy.org/doc/stable/reference/generated/numpy.vectorize.html)は関数Gの引数にnumpy.arrayを渡し、その計算結果をnumpy.arrayでまとめて受け取れるようにするための「おまじない」です。"
   ]
  },
  {
   "cell_type": "code",
   "execution_count": 2,
   "id": "76a41e31-b881-456a-8078-ce19b8813478",
   "metadata": {},
   "outputs": [
    {
     "data": {
      "image/png": "[encoded data removed]",
      "text/plain": [
       "<Figure size 432x288 with 1 Axes>"
      ]
     },
     "metadata": {
      "needs_background": "light"
     },
     "output_type": "display_data"
    }
   ],
   "source": [
    "import numpy as np\n",
    "import matplotlib.pyplot as plt\n",
    "\n",
    "\n",
    "def plot(ax, f):\n",
    "    X = np.linspace(-4.5, 3.5, 1000)\n",
    "    Y = f(X)\n",
    "    \n",
    "    ax.plot(X, Y, '-')\n",
    "    ax.set_xlabel('$x$')\n",
    "    ax.set_ylabel('$y$')\n",
    "    ax.set_aspect('equal')\n",
    "\n",
    "fig, ax = plt.subplots()\n",
    "g = np.vectorize(G)\n",
    "plot(ax, g)\n",
    "plt.show()"
   ]
  },
  {
   "cell_type": "markdown",
   "id": "198919f0-6552-4730-885f-be52cd2311cc",
   "metadata": {
    "tags": []
   },
   "source": [
    "1層の隠れ層を持つニューラルネットワーク\n",
    "\n",
    "\\begin{align*}\n",
    "F(x) = \\sum_{i=1}^M v_i \\sigma(w_i x + b_i) \\\\\n",
    "\\end{align*}\n",
    "\n",
    "を考える。ここで、$M$は隠れ層のユニット数、$\\pmb{v}, \\pmb{w}, \\pmb{b} \\in \\mathbb{R}^M$はモデルのパラメータです。$M$の値を適当に決定し、関数`G`の出力を再現するパラメータ$\\pmb{v}, \\pmb{w}, \\pmb{b}$を求め、このニューラルネットワークの出力$F(x)$をプロットせよ。"
   ]
  },
  {
   "cell_type": "code",
   "execution_count": null,
   "id": "0945cef2-f89a-4923-b559-6f6824536d87",
   "metadata": {},
   "outputs": [],
   "source": []
  }
 ],
 "metadata": {
  "kernelspec": {
   "display_name": "mlnote:Python",
   "language": "python",
   "name": "conda-env-mlnote-py"
  },
  "language_info": {
   "codemirror_mode": {
    "name": "ipython",
    "version": 3
   },
   "file_extension": ".py",
   "mimetype": "text/x-python",
   "name": "python",
   "nbconvert_exporter": "python",
   "pygments_lexer": "ipython3",
   "version": "3.10.4"
  }
 },
 "nbformat": 4,
 "nbformat_minor": 5
}
