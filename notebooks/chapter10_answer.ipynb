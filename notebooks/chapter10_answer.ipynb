{
 "cells": [
  {
   "cell_type": "markdown",
   "id": "8c4fc2d9-53db-49c8-999e-c05fe7eb37f7",
   "metadata": {},
   "source": [
    "# 機械学習帳 確認問題(10.10)\n",
    "\n",
    "[機械学習帳の非階層的クラスタリングの確認問題(10.10)](https://chokkan.github.io/mlnote/classification/04nntrain.html#id13)を解きます。\n",
    "\n",
    "## 講義内容の復習\n",
    "\n",
    "![chapter10-1.svg](./images/chapter10/chapter10-1.svg)\n",
    "\n",
    "![chapter10-2.svg](./images/chapter10/chapter10-2.svg)\n",
    "\n",
    "## 1. データセットの読み込み\n",
    "\n",
    "[教育用標準データセット（SSDSE）](https://www.nstac.go.jp/use/literacy/ssdse/)に収録されている都道府県庁所在市別・家計消費データ（SSDSE-C）に対してクラスタ分析を適用し、消費行動が類似している都道府県のクラスタを作りたい。\n",
    "\n",
    "このデータセットを読み込み、各都道府県庁所在地を特徴ベクトルで表現せよ。\n"
   ]
  },
  {
   "cell_type": "code",
   "execution_count": null,
   "id": "ea63cdfd-a64c-4b83-ad6a-6b7e4ad09d17",
   "metadata": {},
   "outputs": [],
   "source": []
  },
  {
   "cell_type": "markdown",
   "id": "24e8604f-81c1-48bc-93c8-9bc7b7bfc7c6",
   "metadata": {},
   "source": [
    "## 2. WCSSのプロット\n",
    "\n",
    "K-meansクラスタリングを異なるクラスタ数で実行し、横軸にクラスタ数、縦軸にK-meansの目的関数の値、すなわちクラスタ内平方和（WCSS: within-cluster sum-of-squares）をプロットしたグラフを描画せよ"
   ]
  },
  {
   "cell_type": "code",
   "execution_count": null,
   "id": "8ad46643-e720-426b-9100-dac14487efb6",
   "metadata": {},
   "outputs": [],
   "source": []
  },
  {
   "cell_type": "markdown",
   "id": "a4b0d6eb-6633-4b66-8f5f-37015f996852",
   "metadata": {},
   "source": [
    "## 3. K-meansクラスタリング\n",
    "\n",
    "(2)の結果に基づき、クラスタ数を適当に選び、K-meansクラスタリングを実行せよ。からまでの各クラスタに対して、それぞれ所属する都道府県庁所在地を明らかにせよ"
   ]
  },
  {
   "cell_type": "code",
   "execution_count": null,
   "id": "5c8dd61e-4dd8-484e-ab77-cc0dc806ba5f",
   "metadata": {},
   "outputs": [],
   "source": []
  }
 ],
 "metadata": {
  "kernelspec": {
   "display_name": "mlnote:Python",
   "language": "python",
   "name": "conda-env-mlnote-py"
  },
  "language_info": {
   "codemirror_mode": {
    "name": "ipython",
    "version": 3
   },
   "file_extension": ".py",
   "mimetype": "text/x-python",
   "name": "python",
   "nbconvert_exporter": "python",
   "pygments_lexer": "ipython3",
   "version": "3.10.4"
  }
 },
 "nbformat": 4,
 "nbformat_minor": 5
}
