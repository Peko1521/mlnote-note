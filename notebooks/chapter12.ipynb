{
 "cells": [
  {
   "cell_type": "markdown",
   "id": "8c4fc2d9-53db-49c8-999e-c05fe7eb37f7",
   "metadata": {},
   "source": [
    "# 機械学習帳 確認問題(12.7)\n",
    "\n",
    "[機械学習帳の主成分分析の確認問題(12.7)](https://chokkan.github.io/mlnote/unsupervised/03pca.html#id8)を解きます。\n",
    "\n",
    "## 講義内容の復習\n",
    "\n",
    "![chapter12-1.svg](./images/chapter12/chapter12-1.svg)\n",
    "\n",
    "![chapter12-2.svg](./images/chapter12/chapter12-2.svg)\n",
    "\n",
    "## 1. $\\pmb{S}$の計算\n",
    "\n",
    "行列$\\pmb{S} = \\pmb{X}^\\top \\pmb{X}$に対して固有値問題を解くことで、主成分分析が得られることを確認したい。\n",
    "\n",
    "$\\pmb{X}$に対して、行列$\\pmb{S} = \\pmb{X}^\\top \\pmb{X}$を求めよ。\n",
    "\n",
    "\\begin{align*}\n",
    "\\pmb{X} = \\begin{pmatrix}-7 & -2 \\\\ -3 & -3 \\\\ 4 & 1 \\\\ 6 & 4\\end{pmatrix}\n",
    "\\end{align*}。"
   ]
  },
  {
   "cell_type": "code",
   "execution_count": 1,
   "id": "ea63cdfd-a64c-4b83-ad6a-6b7e4ad09d17",
   "metadata": {},
   "outputs": [],
   "source": []
  },
  {
   "cell_type": "markdown",
   "id": "24e8604f-81c1-48bc-93c8-9bc7b7bfc7c6",
   "metadata": {},
   "source": [
    "## 2. 固有値問題の解\n",
    "\n",
    "[numpy.linalg.eig](https://numpy.org/doc/stable/reference/generated/numpy.linalg.eig.html)等で$\\pmb{S}$の固有値問題を解き、固有値と固有ベクトルを求めよ。"
   ]
  },
  {
   "cell_type": "code",
   "execution_count": null,
   "id": "8ad46643-e720-426b-9100-dac14487efb6",
   "metadata": {},
   "outputs": [],
   "source": []
  },
  {
   "cell_type": "markdown",
   "id": "4c45c876-4108-4e7a-8192-0921fed43b51",
   "metadata": {},
   "source": [
    "## 3. 第１主成分と第２主成分\n",
    "\n",
    "第１主成分と第１主成分軸における分散、第２主成分と第２主成分軸における分散を求めよ。"
   ]
  },
  {
   "cell_type": "code",
   "execution_count": null,
   "id": "aa1e7b0c-9c4a-4c7d-8847-f91e7a7361ab",
   "metadata": {},
   "outputs": [],
   "source": []
  },
  {
   "cell_type": "markdown",
   "id": "39f54a81-209f-419b-bdea-fd3cd9e8e554",
   "metadata": {},
   "source": [
    "## 第１主成分得点と第２主成分得点\n",
    "\n",
    "第１主成分得点と第２主成分得点を求めよ。"
   ]
  },
  {
   "cell_type": "code",
   "execution_count": null,
   "id": "51a95e5f-add7-419d-a2fb-5dba81276fd1",
   "metadata": {},
   "outputs": [],
   "source": []
  }
 ],
 "metadata": {
  "kernelspec": {
   "display_name": "mlnote:Python",
   "language": "python",
   "name": "conda-env-mlnote-py"
  },
  "language_info": {
   "codemirror_mode": {
    "name": "ipython",
    "version": 3
   },
   "file_extension": ".py",
   "mimetype": "text/x-python",
   "name": "python",
   "nbconvert_exporter": "python",
   "pygments_lexer": "ipython3",
   "version": "3.10.4"
  }
 },
 "nbformat": 4,
 "nbformat_minor": 5
}
