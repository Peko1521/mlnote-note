{
 "cells": [
  {
   "cell_type": "markdown",
   "id": "416229aa-be2b-4ec9-9be3-557da5be5bba",
   "metadata": {},
   "source": [
    "# 機械学習帳 確認問題(1.9)\n",
    "\n",
    "[機械学習帳の単回帰の確認問題(1.9)](https://chokkan.github.io/mlnote/regression/01sra.html#id13)を解きます。\n",
    "\n",
    "## 講義内容の復習\n",
    "\n",
    "![chapter1-1](./images/chapter1/chapter1-1.PNG)\n",
    "\n",
    "![chapter1-2](./images/chapter1/chapter1-2.PNG)\n",
    "\n",
    "## 0. データの準備\n",
    "\n",
    "以下のデータ$\\mathcal{D}_s$に対して単回帰分析を行うプログラムを実装せよ。"
   ]
  },
  {
   "cell_type": "code",
   "execution_count": 1,
   "id": "cf519af5-3b3c-483f-9a4b-c88cdf044149",
   "metadata": {},
   "outputs": [],
   "source": [
    "import numpy as np\n",
    "\n",
    "\n",
    "D = np.array([[1, 3], [3, 6], [6, 5], [8, 7]])\n",
    "X = D[:,0]\n",
    "Y = D[:,1]"
   ]
  },
  {
   "cell_type": "markdown",
   "id": "f8a8bc71-f335-4ab5-be7d-2fea96cfe0e3",
   "metadata": {
    "tags": []
   },
   "source": [
    "## 1. 単回帰の実装\n",
    "\n",
    "$\\mathcal{D}_s$に対して単回帰を行うプログラムを実装し、回帰直線$\\hat{y}=ax+b$の係数$a$と$b$の値を求めよ"
   ]
  },
  {
   "cell_type": "code",
   "execution_count": null,
   "id": "9d7fdbba-a0f8-476e-b8a2-5799acd6e48b",
   "metadata": {},
   "outputs": [],
   "source": []
  },
  {
   "cell_type": "markdown",
   "id": "8eb03d48-6b80-44cd-957f-04ed3cc30532",
   "metadata": {
    "tags": []
   },
   "source": [
    "## 2. 回帰直線の描画\n",
    "\n",
    "単回帰の実装で求めた回帰直線をデータ点とともにグラフに描け"
   ]
  },
  {
   "cell_type": "code",
   "execution_count": null,
   "id": "e4971bda-b306-4e1e-9970-b173b29b4f1b",
   "metadata": {},
   "outputs": [],
   "source": []
  },
  {
   "cell_type": "markdown",
   "id": "6131ab3e-1025-4844-9827-1bf1d3aa50e8",
   "metadata": {
    "tags": []
   },
   "source": [
    "## 3. 残差の計算\n",
    "\n",
    "各事例$(x_i, y_i)$に対して残差$\\hat{\\epsilon}_i$を求めよ"
   ]
  },
  {
   "cell_type": "code",
   "execution_count": null,
   "id": "cd7ec3d5-725a-4feb-a862-22937835f510",
   "metadata": {},
   "outputs": [],
   "source": []
  },
  {
   "cell_type": "markdown",
   "id": "a315bbac-55c0-4017-adf9-5a1224e7313e",
   "metadata": {},
   "source": [
    "## 4. 説明変数と残差の共分散\n",
    "\n",
    "説明変数と残差の共分散を求めよ"
   ]
  },
  {
   "cell_type": "code",
   "execution_count": null,
   "id": "808148f0-3b25-4a51-b728-20b7ba2d78c2",
   "metadata": {},
   "outputs": [],
   "source": []
  },
  {
   "cell_type": "markdown",
   "id": "952295af-0ea5-47e1-b54e-0f6a244974ec",
   "metadata": {},
   "source": [
    "## 5. 目的変数の推定値と残差の共分散\n",
    "\n",
    "目的変数の推定値と残差の共分散を求めよ"
   ]
  },
  {
   "cell_type": "code",
   "execution_count": null,
   "id": "3ec7e6a2-8fa0-4524-8696-e29c3d6700bd",
   "metadata": {},
   "outputs": [],
   "source": []
  },
  {
   "cell_type": "markdown",
   "id": "3749108d-3177-418a-b869-c807cad96255",
   "metadata": {},
   "source": [
    "## 6. 決定係数\n",
    "\n",
    "決定係数（$R^2$）を求めよ"
   ]
  },
  {
   "cell_type": "code",
   "execution_count": null,
   "id": "8e5f54a3-093f-487b-90d8-903f14623b87",
   "metadata": {},
   "outputs": [],
   "source": []
  }
 ],
 "metadata": {
  "kernelspec": {
   "display_name": "mlnote:Python",
   "language": "python",
   "name": "conda-env-mlnote-py"
  },
  "language_info": {
   "codemirror_mode": {
    "name": "ipython",
    "version": 3
   },
   "file_extension": ".py",
   "mimetype": "text/x-python",
   "name": "python",
   "nbconvert_exporter": "python",
   "pygments_lexer": "ipython3",
   "version": "3.10.4"
  }
 },
 "nbformat": 4,
 "nbformat_minor": 5
}
